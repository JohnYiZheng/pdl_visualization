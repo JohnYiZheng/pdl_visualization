{
 "cells": [
  {
   "cell_type": "markdown",
   "metadata": {},
   "source": [
    "- Matplotlib (https://matplotlib.org/)\n",
    "- Seaborn (https://seaborn.pydata.org)\n",
    "- Bokeh (https://bokeh.pydata.org/)\n",
    "- Charify (https://github.com/spotify/chartify/)\n",
    "- plotly (https://plot.ly/python/)\n",
    "- Altair (based on Vega lite) (https://altair-viz.github.io/)\n",
    "\n",
    "- Ggplot (http://ggplot.yhathq.com/)\n",
    "- Gleam (based on R’ Shiny) (https://github.com/dgrtwo/gleam)\n",
    "\n",
    "- Leather (https://leather.readthedocs.io/)\n",
    "\n",
    "- Specific problems\n",
    "  - Missingno (https://github.com/ResidentMario/missingno)\n",
    "  - Geoplot (https://residentmario.github.io/geoplot/index.html)\n"
   ]
  },
  {
   "cell_type": "code",
   "execution_count": null,
   "metadata": {},
   "outputs": [],
   "source": []
  }
 ],
 "metadata": {
  "kernelspec": {
   "display_name": "Python 3",
   "language": "python",
   "name": "python3"
  },
  "language_info": {
   "codemirror_mode": {
    "name": "ipython",
    "version": 3
   },
   "file_extension": ".py",
   "mimetype": "text/x-python",
   "name": "python",
   "nbconvert_exporter": "python",
   "pygments_lexer": "ipython3",
   "version": "3.7.1"
  }
 },
 "nbformat": 4,
 "nbformat_minor": 2
}
