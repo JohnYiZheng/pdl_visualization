{
 "cells": [
  {
   "cell_type": "markdown",
   "metadata": {},
   "source": [
    "# Chartify\n",
    "\n",
    "- Chartify is built on top of Bokeh\n",
    "- Consistent input data format: All plotting functions use a consistent tidy input data format.\n",
    "- Simple API"
   ]
  },
  {
   "cell_type": "code",
   "execution_count": 2,
   "metadata": {},
   "outputs": [
    {
     "name": "stdout",
     "output_type": "stream",
     "text": [
      "Requirement already satisfied: chartify==2.6.0 in /Users/paul/.pyenv/versions/anaconda3-2018.12/lib/python3.7/site-packages (2.6.0)\n",
      "Requirement already satisfied: bokeh<2.0.0,>=0.12.16 in /Users/paul/.pyenv/versions/anaconda3-2018.12/lib/python3.7/site-packages (from chartify==2.6.0) (1.0.4)\n",
      "Requirement already satisfied: selenium<=3.8.0,>=3.7.0 in /Users/paul/.pyenv/versions/anaconda3-2018.12/lib/python3.7/site-packages (from chartify==2.6.0) (3.8.0)\n",
      "Requirement already satisfied: jupyter<2.0.0,>=1.0.0 in /Users/paul/.pyenv/versions/anaconda3-2018.12/lib/python3.7/site-packages (from chartify==2.6.0) (1.0.0)\n",
      "Requirement already satisfied: pandas<1.0.0,>=0.21.0 in /Users/paul/.pyenv/versions/anaconda3-2018.12/lib/python3.7/site-packages (from chartify==2.6.0) (0.23.4)\n",
      "Requirement already satisfied: colour<1.0.0,>=0.1.5 in /Users/paul/.pyenv/versions/anaconda3-2018.12/lib/python3.7/site-packages (from chartify==2.6.0) (0.1.5)\n",
      "Requirement already satisfied: Pillow>=4.3.0 in /Users/paul/.pyenv/versions/anaconda3-2018.12/lib/python3.7/site-packages (from chartify==2.6.0) (5.3.0)\n",
      "Requirement already satisfied: scipy<2.0.0,>=1.0.0 in /Users/paul/.pyenv/versions/anaconda3-2018.12/lib/python3.7/site-packages (from chartify==2.6.0) (1.1.0)\n",
      "Requirement already satisfied: Jinja2>=2.7 in /Users/paul/.pyenv/versions/anaconda3-2018.12/lib/python3.7/site-packages (from bokeh<2.0.0,>=0.12.16->chartify==2.6.0) (2.10)\n",
      "Requirement already satisfied: PyYAML>=3.10 in /Users/paul/.pyenv/versions/anaconda3-2018.12/lib/python3.7/site-packages (from bokeh<2.0.0,>=0.12.16->chartify==2.6.0) (3.13)\n",
      "Requirement already satisfied: six>=1.5.2 in /Users/paul/.pyenv/versions/anaconda3-2018.12/lib/python3.7/site-packages (from bokeh<2.0.0,>=0.12.16->chartify==2.6.0) (1.12.0)\n",
      "Requirement already satisfied: python-dateutil>=2.1 in /Users/paul/.pyenv/versions/anaconda3-2018.12/lib/python3.7/site-packages (from bokeh<2.0.0,>=0.12.16->chartify==2.6.0) (2.7.5)\n",
      "Requirement already satisfied: tornado>=4.3 in /Users/paul/.pyenv/versions/anaconda3-2018.12/lib/python3.7/site-packages (from bokeh<2.0.0,>=0.12.16->chartify==2.6.0) (5.1.1)\n",
      "Requirement already satisfied: packaging>=16.8 in /Users/paul/.pyenv/versions/anaconda3-2018.12/lib/python3.7/site-packages (from bokeh<2.0.0,>=0.12.16->chartify==2.6.0) (18.0)\n",
      "Requirement already satisfied: numpy>=1.7.1 in /Users/paul/.pyenv/versions/anaconda3-2018.12/lib/python3.7/site-packages (from bokeh<2.0.0,>=0.12.16->chartify==2.6.0) (1.15.4)\n",
      "Requirement already satisfied: jupyter-console in /Users/paul/.pyenv/versions/anaconda3-2018.12/lib/python3.7/site-packages (from jupyter<2.0.0,>=1.0.0->chartify==2.6.0) (5.2.0)\n",
      "Requirement already satisfied: notebook in /Users/paul/.pyenv/versions/anaconda3-2018.12/lib/python3.7/site-packages (from jupyter<2.0.0,>=1.0.0->chartify==2.6.0) (5.7.4)\n",
      "Requirement already satisfied: ipykernel in /Users/paul/.pyenv/versions/anaconda3-2018.12/lib/python3.7/site-packages (from jupyter<2.0.0,>=1.0.0->chartify==2.6.0) (5.1.0)\n",
      "Requirement already satisfied: nbconvert in /Users/paul/.pyenv/versions/anaconda3-2018.12/lib/python3.7/site-packages (from jupyter<2.0.0,>=1.0.0->chartify==2.6.0) (5.4.0)\n",
      "Requirement already satisfied: qtconsole in /Users/paul/.pyenv/versions/anaconda3-2018.12/lib/python3.7/site-packages (from jupyter<2.0.0,>=1.0.0->chartify==2.6.0) (4.4.3)\n",
      "Requirement already satisfied: ipywidgets in /Users/paul/.pyenv/versions/anaconda3-2018.12/lib/python3.7/site-packages (from jupyter<2.0.0,>=1.0.0->chartify==2.6.0) (7.4.2)\n",
      "Requirement already satisfied: pytz>=2011k in /Users/paul/.pyenv/versions/anaconda3-2018.12/lib/python3.7/site-packages (from pandas<1.0.0,>=0.21.0->chartify==2.6.0) (2018.7)\n",
      "Requirement already satisfied: MarkupSafe>=0.23 in /Users/paul/.pyenv/versions/anaconda3-2018.12/lib/python3.7/site-packages (from Jinja2>=2.7->bokeh<2.0.0,>=0.12.16->chartify==2.6.0) (1.1.0)\n",
      "Requirement already satisfied: pyparsing>=2.0.2 in /Users/paul/.pyenv/versions/anaconda3-2018.12/lib/python3.7/site-packages (from packaging>=16.8->bokeh<2.0.0,>=0.12.16->chartify==2.6.0) (2.3.0)\n",
      "Requirement already satisfied: jupyter_client in /Users/paul/.pyenv/versions/anaconda3-2018.12/lib/python3.7/site-packages (from jupyter-console->jupyter<2.0.0,>=1.0.0->chartify==2.6.0) (5.2.4)\n",
      "Requirement already satisfied: ipython in /Users/paul/.pyenv/versions/anaconda3-2018.12/lib/python3.7/site-packages (from jupyter-console->jupyter<2.0.0,>=1.0.0->chartify==2.6.0) (6.2.1)\n",
      "Requirement already satisfied: prompt_toolkit<2.0.0,>=1.0.0 in /Users/paul/.pyenv/versions/anaconda3-2018.12/lib/python3.7/site-packages (from jupyter-console->jupyter<2.0.0,>=1.0.0->chartify==2.6.0) (1.0.15)\n",
      "Requirement already satisfied: pygments in /Users/paul/.pyenv/versions/anaconda3-2018.12/lib/python3.7/site-packages (from jupyter-console->jupyter<2.0.0,>=1.0.0->chartify==2.6.0) (2.3.1)\n",
      "Requirement already satisfied: terminado>=0.8.1 in /Users/paul/.pyenv/versions/anaconda3-2018.12/lib/python3.7/site-packages (from notebook->jupyter<2.0.0,>=1.0.0->chartify==2.6.0) (0.8.1)\n",
      "Requirement already satisfied: prometheus-client in /Users/paul/.pyenv/versions/anaconda3-2018.12/lib/python3.7/site-packages (from notebook->jupyter<2.0.0,>=1.0.0->chartify==2.6.0) (0.5.0)\n",
      "Requirement already satisfied: nbformat in /Users/paul/.pyenv/versions/anaconda3-2018.12/lib/python3.7/site-packages (from notebook->jupyter<2.0.0,>=1.0.0->chartify==2.6.0) (4.4.0)\n",
      "Requirement already satisfied: traitlets>=4.2.1 in /Users/paul/.pyenv/versions/anaconda3-2018.12/lib/python3.7/site-packages (from notebook->jupyter<2.0.0,>=1.0.0->chartify==2.6.0) (4.3.2)\n",
      "Requirement already satisfied: ipython-genutils in /Users/paul/.pyenv/versions/anaconda3-2018.12/lib/python3.7/site-packages (from notebook->jupyter<2.0.0,>=1.0.0->chartify==2.6.0) (0.2.0)\n",
      "Requirement already satisfied: pyzmq>=17 in /Users/paul/.pyenv/versions/anaconda3-2018.12/lib/python3.7/site-packages (from notebook->jupyter<2.0.0,>=1.0.0->chartify==2.6.0) (17.1.2)\n",
      "Requirement already satisfied: jupyter-core>=4.4.0 in /Users/paul/.pyenv/versions/anaconda3-2018.12/lib/python3.7/site-packages (from notebook->jupyter<2.0.0,>=1.0.0->chartify==2.6.0) (4.4.0)\n",
      "Requirement already satisfied: Send2Trash in /Users/paul/.pyenv/versions/anaconda3-2018.12/lib/python3.7/site-packages (from notebook->jupyter<2.0.0,>=1.0.0->chartify==2.6.0) (1.5.0)\n",
      "Requirement already satisfied: mistune>=0.8.1 in /Users/paul/.pyenv/versions/anaconda3-2018.12/lib/python3.7/site-packages (from nbconvert->jupyter<2.0.0,>=1.0.0->chartify==2.6.0) (0.8.4)\n",
      "Requirement already satisfied: entrypoints>=0.2.2 in /Users/paul/.pyenv/versions/anaconda3-2018.12/lib/python3.7/site-packages (from nbconvert->jupyter<2.0.0,>=1.0.0->chartify==2.6.0) (0.2.3)\n",
      "Requirement already satisfied: bleach in /Users/paul/.pyenv/versions/anaconda3-2018.12/lib/python3.7/site-packages (from nbconvert->jupyter<2.0.0,>=1.0.0->chartify==2.6.0) (3.0.2)\n",
      "Requirement already satisfied: pandocfilters>=1.4.1 in /Users/paul/.pyenv/versions/anaconda3-2018.12/lib/python3.7/site-packages (from nbconvert->jupyter<2.0.0,>=1.0.0->chartify==2.6.0) (1.4.2)\n",
      "Requirement already satisfied: testpath in /Users/paul/.pyenv/versions/anaconda3-2018.12/lib/python3.7/site-packages (from nbconvert->jupyter<2.0.0,>=1.0.0->chartify==2.6.0) (0.4.2)\n",
      "Requirement already satisfied: defusedxml in /Users/paul/.pyenv/versions/anaconda3-2018.12/lib/python3.7/site-packages (from nbconvert->jupyter<2.0.0,>=1.0.0->chartify==2.6.0) (0.5.0)\n",
      "Requirement already satisfied: widgetsnbextension~=3.4.0 in /Users/paul/.pyenv/versions/anaconda3-2018.12/lib/python3.7/site-packages (from ipywidgets->jupyter<2.0.0,>=1.0.0->chartify==2.6.0) (3.4.2)\n",
      "Requirement already satisfied: appnope; sys_platform == \"darwin\" in /Users/paul/.pyenv/versions/anaconda3-2018.12/lib/python3.7/site-packages (from ipython->jupyter-console->jupyter<2.0.0,>=1.0.0->chartify==2.6.0) (0.1.0)\n",
      "Requirement already satisfied: pickleshare in /Users/paul/.pyenv/versions/anaconda3-2018.12/lib/python3.7/site-packages (from ipython->jupyter-console->jupyter<2.0.0,>=1.0.0->chartify==2.6.0) (0.7.5)\n",
      "Requirement already satisfied: simplegeneric>0.8 in /Users/paul/.pyenv/versions/anaconda3-2018.12/lib/python3.7/site-packages (from ipython->jupyter-console->jupyter<2.0.0,>=1.0.0->chartify==2.6.0) (0.8.1)\n",
      "Requirement already satisfied: decorator in /Users/paul/.pyenv/versions/anaconda3-2018.12/lib/python3.7/site-packages (from ipython->jupyter-console->jupyter<2.0.0,>=1.0.0->chartify==2.6.0) (4.3.0)\n",
      "Requirement already satisfied: jedi>=0.10 in /Users/paul/.pyenv/versions/anaconda3-2018.12/lib/python3.7/site-packages (from ipython->jupyter-console->jupyter<2.0.0,>=1.0.0->chartify==2.6.0) (0.13.2)\n",
      "Requirement already satisfied: pexpect; sys_platform != \"win32\" in /Users/paul/.pyenv/versions/anaconda3-2018.12/lib/python3.7/site-packages (from ipython->jupyter-console->jupyter<2.0.0,>=1.0.0->chartify==2.6.0) (4.6.0)\n",
      "Requirement already satisfied: setuptools>=18.5 in /Users/paul/.pyenv/versions/anaconda3-2018.12/lib/python3.7/site-packages (from ipython->jupyter-console->jupyter<2.0.0,>=1.0.0->chartify==2.6.0) (40.6.3)\n",
      "Requirement already satisfied: wcwidth in /Users/paul/.pyenv/versions/anaconda3-2018.12/lib/python3.7/site-packages (from prompt_toolkit<2.0.0,>=1.0.0->jupyter-console->jupyter<2.0.0,>=1.0.0->chartify==2.6.0) (0.1.7)\n",
      "Requirement already satisfied: jsonschema!=2.5.0,>=2.4 in /Users/paul/.pyenv/versions/anaconda3-2018.12/lib/python3.7/site-packages (from nbformat->notebook->jupyter<2.0.0,>=1.0.0->chartify==2.6.0) (2.6.0)\n",
      "Requirement already satisfied: webencodings in /Users/paul/.pyenv/versions/anaconda3-2018.12/lib/python3.7/site-packages (from bleach->nbconvert->jupyter<2.0.0,>=1.0.0->chartify==2.6.0) (0.5.1)\n",
      "Requirement already satisfied: parso>=0.3.0 in /Users/paul/.pyenv/versions/anaconda3-2018.12/lib/python3.7/site-packages (from jedi>=0.10->ipython->jupyter-console->jupyter<2.0.0,>=1.0.0->chartify==2.6.0) (0.3.1)\n",
      "Requirement already satisfied: ptyprocess>=0.5 in /Users/paul/.pyenv/versions/anaconda3-2018.12/lib/python3.7/site-packages (from pexpect; sys_platform != \"win32\"->ipython->jupyter-console->jupyter<2.0.0,>=1.0.0->chartify==2.6.0) (0.6.0)\n"
     ]
    }
   ],
   "source": [
    "!pip install chartify==2.6.0"
   ]
  },
  {
   "cell_type": "code",
   "execution_count": 5,
   "metadata": {},
   "outputs": [
    {
     "data": {
      "text/html": [
       "\n",
       "    <div class=\"bk-root\">\n",
       "        <a href=\"https://bokeh.pydata.org\" target=\"_blank\" class=\"bk-logo bk-logo-small bk-logo-notebook\"></a>\n",
       "        <span id=\"1039\">Loading BokehJS ...</span>\n",
       "    </div>"
      ]
     },
     "metadata": {},
     "output_type": "display_data"
    },
    {
     "data": {
      "application/javascript": [
       "\n",
       "(function(root) {\n",
       "  function now() {\n",
       "    return new Date();\n",
       "  }\n",
       "\n",
       "  var force = true;\n",
       "\n",
       "  if (typeof (root._bokeh_onload_callbacks) === \"undefined\" || force === true) {\n",
       "    root._bokeh_onload_callbacks = [];\n",
       "    root._bokeh_is_loading = undefined;\n",
       "  }\n",
       "\n",
       "  var JS_MIME_TYPE = 'application/javascript';\n",
       "  var HTML_MIME_TYPE = 'text/html';\n",
       "  var EXEC_MIME_TYPE = 'application/vnd.bokehjs_exec.v0+json';\n",
       "  var CLASS_NAME = 'output_bokeh rendered_html';\n",
       "\n",
       "  /**\n",
       "   * Render data to the DOM node\n",
       "   */\n",
       "  function render(props, node) {\n",
       "    var script = document.createElement(\"script\");\n",
       "    node.appendChild(script);\n",
       "  }\n",
       "\n",
       "  /**\n",
       "   * Handle when an output is cleared or removed\n",
       "   */\n",
       "  function handleClearOutput(event, handle) {\n",
       "    var cell = handle.cell;\n",
       "\n",
       "    var id = cell.output_area._bokeh_element_id;\n",
       "    var server_id = cell.output_area._bokeh_server_id;\n",
       "    // Clean up Bokeh references\n",
       "    if (id != null && id in Bokeh.index) {\n",
       "      Bokeh.index[id].model.document.clear();\n",
       "      delete Bokeh.index[id];\n",
       "    }\n",
       "\n",
       "    if (server_id !== undefined) {\n",
       "      // Clean up Bokeh references\n",
       "      var cmd = \"from bokeh.io.state import curstate; print(curstate().uuid_to_server['\" + server_id + \"'].get_sessions()[0].document.roots[0]._id)\";\n",
       "      cell.notebook.kernel.execute(cmd, {\n",
       "        iopub: {\n",
       "          output: function(msg) {\n",
       "            var id = msg.content.text.trim();\n",
       "            if (id in Bokeh.index) {\n",
       "              Bokeh.index[id].model.document.clear();\n",
       "              delete Bokeh.index[id];\n",
       "            }\n",
       "          }\n",
       "        }\n",
       "      });\n",
       "      // Destroy server and session\n",
       "      var cmd = \"import bokeh.io.notebook as ion; ion.destroy_server('\" + server_id + \"')\";\n",
       "      cell.notebook.kernel.execute(cmd);\n",
       "    }\n",
       "  }\n",
       "\n",
       "  /**\n",
       "   * Handle when a new output is added\n",
       "   */\n",
       "  function handleAddOutput(event, handle) {\n",
       "    var output_area = handle.output_area;\n",
       "    var output = handle.output;\n",
       "\n",
       "    // limit handleAddOutput to display_data with EXEC_MIME_TYPE content only\n",
       "    if ((output.output_type != \"display_data\") || (!output.data.hasOwnProperty(EXEC_MIME_TYPE))) {\n",
       "      return\n",
       "    }\n",
       "\n",
       "    var toinsert = output_area.element.find(\".\" + CLASS_NAME.split(' ')[0]);\n",
       "\n",
       "    if (output.metadata[EXEC_MIME_TYPE][\"id\"] !== undefined) {\n",
       "      toinsert[toinsert.length - 1].firstChild.textContent = output.data[JS_MIME_TYPE];\n",
       "      // store reference to embed id on output_area\n",
       "      output_area._bokeh_element_id = output.metadata[EXEC_MIME_TYPE][\"id\"];\n",
       "    }\n",
       "    if (output.metadata[EXEC_MIME_TYPE][\"server_id\"] !== undefined) {\n",
       "      var bk_div = document.createElement(\"div\");\n",
       "      bk_div.innerHTML = output.data[HTML_MIME_TYPE];\n",
       "      var script_attrs = bk_div.children[0].attributes;\n",
       "      for (var i = 0; i < script_attrs.length; i++) {\n",
       "        toinsert[toinsert.length - 1].firstChild.setAttribute(script_attrs[i].name, script_attrs[i].value);\n",
       "      }\n",
       "      // store reference to server id on output_area\n",
       "      output_area._bokeh_server_id = output.metadata[EXEC_MIME_TYPE][\"server_id\"];\n",
       "    }\n",
       "  }\n",
       "\n",
       "  function register_renderer(events, OutputArea) {\n",
       "\n",
       "    function append_mime(data, metadata, element) {\n",
       "      // create a DOM node to render to\n",
       "      var toinsert = this.create_output_subarea(\n",
       "        metadata,\n",
       "        CLASS_NAME,\n",
       "        EXEC_MIME_TYPE\n",
       "      );\n",
       "      this.keyboard_manager.register_events(toinsert);\n",
       "      // Render to node\n",
       "      var props = {data: data, metadata: metadata[EXEC_MIME_TYPE]};\n",
       "      render(props, toinsert[toinsert.length - 1]);\n",
       "      element.append(toinsert);\n",
       "      return toinsert\n",
       "    }\n",
       "\n",
       "    /* Handle when an output is cleared or removed */\n",
       "    events.on('clear_output.CodeCell', handleClearOutput);\n",
       "    events.on('delete.Cell', handleClearOutput);\n",
       "\n",
       "    /* Handle when a new output is added */\n",
       "    events.on('output_added.OutputArea', handleAddOutput);\n",
       "\n",
       "    /**\n",
       "     * Register the mime type and append_mime function with output_area\n",
       "     */\n",
       "    OutputArea.prototype.register_mime_type(EXEC_MIME_TYPE, append_mime, {\n",
       "      /* Is output safe? */\n",
       "      safe: true,\n",
       "      /* Index of renderer in `output_area.display_order` */\n",
       "      index: 0\n",
       "    });\n",
       "  }\n",
       "\n",
       "  // register the mime type if in Jupyter Notebook environment and previously unregistered\n",
       "  if (root.Jupyter !== undefined) {\n",
       "    var events = require('base/js/events');\n",
       "    var OutputArea = require('notebook/js/outputarea').OutputArea;\n",
       "\n",
       "    if (OutputArea.prototype.mime_types().indexOf(EXEC_MIME_TYPE) == -1) {\n",
       "      register_renderer(events, OutputArea);\n",
       "    }\n",
       "  }\n",
       "\n",
       "  \n",
       "  if (typeof (root._bokeh_timeout) === \"undefined\" || force === true) {\n",
       "    root._bokeh_timeout = Date.now() + 5000;\n",
       "    root._bokeh_failed_load = false;\n",
       "  }\n",
       "\n",
       "  var NB_LOAD_WARNING = {'data': {'text/html':\n",
       "     \"<div style='background-color: #fdd'>\\n\"+\n",
       "     \"<p>\\n\"+\n",
       "     \"BokehJS does not appear to have successfully loaded. If loading BokehJS from CDN, this \\n\"+\n",
       "     \"may be due to a slow or bad network connection. Possible fixes:\\n\"+\n",
       "     \"</p>\\n\"+\n",
       "     \"<ul>\\n\"+\n",
       "     \"<li>re-rerun `output_notebook()` to attempt to load from CDN again, or</li>\\n\"+\n",
       "     \"<li>use INLINE resources instead, as so:</li>\\n\"+\n",
       "     \"</ul>\\n\"+\n",
       "     \"<code>\\n\"+\n",
       "     \"from bokeh.resources import INLINE\\n\"+\n",
       "     \"output_notebook(resources=INLINE)\\n\"+\n",
       "     \"</code>\\n\"+\n",
       "     \"</div>\"}};\n",
       "\n",
       "  function display_loaded() {\n",
       "    var el = document.getElementById(\"1039\");\n",
       "    if (el != null) {\n",
       "      el.textContent = \"BokehJS is loading...\";\n",
       "    }\n",
       "    if (root.Bokeh !== undefined) {\n",
       "      if (el != null) {\n",
       "        el.textContent = \"BokehJS \" + root.Bokeh.version + \" successfully loaded.\";\n",
       "      }\n",
       "    } else if (Date.now() < root._bokeh_timeout) {\n",
       "      setTimeout(display_loaded, 100)\n",
       "    }\n",
       "  }\n",
       "\n",
       "\n",
       "  function run_callbacks() {\n",
       "    try {\n",
       "      root._bokeh_onload_callbacks.forEach(function(callback) { callback() });\n",
       "    }\n",
       "    finally {\n",
       "      delete root._bokeh_onload_callbacks\n",
       "    }\n",
       "    console.info(\"Bokeh: all callbacks have finished\");\n",
       "  }\n",
       "\n",
       "  function load_libs(js_urls, callback) {\n",
       "    root._bokeh_onload_callbacks.push(callback);\n",
       "    if (root._bokeh_is_loading > 0) {\n",
       "      console.log(\"Bokeh: BokehJS is being loaded, scheduling callback at\", now());\n",
       "      return null;\n",
       "    }\n",
       "    if (js_urls == null || js_urls.length === 0) {\n",
       "      run_callbacks();\n",
       "      return null;\n",
       "    }\n",
       "    console.log(\"Bokeh: BokehJS not loaded, scheduling load and callback at\", now());\n",
       "    root._bokeh_is_loading = js_urls.length;\n",
       "    for (var i = 0; i < js_urls.length; i++) {\n",
       "      var url = js_urls[i];\n",
       "      var s = document.createElement('script');\n",
       "      s.src = url;\n",
       "      s.async = false;\n",
       "      s.onreadystatechange = s.onload = function() {\n",
       "        root._bokeh_is_loading--;\n",
       "        if (root._bokeh_is_loading === 0) {\n",
       "          console.log(\"Bokeh: all BokehJS libraries loaded\");\n",
       "          run_callbacks()\n",
       "        }\n",
       "      };\n",
       "      s.onerror = function() {\n",
       "        console.warn(\"failed to load library \" + url);\n",
       "      };\n",
       "      console.log(\"Bokeh: injecting script tag for BokehJS library: \", url);\n",
       "      document.getElementsByTagName(\"head\")[0].appendChild(s);\n",
       "    }\n",
       "  };var element = document.getElementById(\"1039\");\n",
       "  if (element == null) {\n",
       "    console.log(\"Bokeh: ERROR: autoload.js configured with elementid '1039' but no matching script tag was found. \")\n",
       "    return false;\n",
       "  }\n",
       "\n",
       "  var js_urls = [\"https://cdn.pydata.org/bokeh/release/bokeh-1.0.4.min.js\", \"https://cdn.pydata.org/bokeh/release/bokeh-widgets-1.0.4.min.js\", \"https://cdn.pydata.org/bokeh/release/bokeh-tables-1.0.4.min.js\", \"https://cdn.pydata.org/bokeh/release/bokeh-gl-1.0.4.min.js\"];\n",
       "\n",
       "  var inline_js = [\n",
       "    function(Bokeh) {\n",
       "      Bokeh.set_log_level(\"info\");\n",
       "    },\n",
       "    \n",
       "    function(Bokeh) {\n",
       "      \n",
       "    },\n",
       "    function(Bokeh) {\n",
       "      console.log(\"Bokeh: injecting CSS: https://cdn.pydata.org/bokeh/release/bokeh-1.0.4.min.css\");\n",
       "      Bokeh.embed.inject_css(\"https://cdn.pydata.org/bokeh/release/bokeh-1.0.4.min.css\");\n",
       "      console.log(\"Bokeh: injecting CSS: https://cdn.pydata.org/bokeh/release/bokeh-widgets-1.0.4.min.css\");\n",
       "      Bokeh.embed.inject_css(\"https://cdn.pydata.org/bokeh/release/bokeh-widgets-1.0.4.min.css\");\n",
       "      console.log(\"Bokeh: injecting CSS: https://cdn.pydata.org/bokeh/release/bokeh-tables-1.0.4.min.css\");\n",
       "      Bokeh.embed.inject_css(\"https://cdn.pydata.org/bokeh/release/bokeh-tables-1.0.4.min.css\");\n",
       "    }\n",
       "  ];\n",
       "\n",
       "  function run_inline_js() {\n",
       "    \n",
       "    if ((root.Bokeh !== undefined) || (force === true)) {\n",
       "      for (var i = 0; i < inline_js.length; i++) {\n",
       "        inline_js[i].call(root, root.Bokeh);\n",
       "      }if (force === true) {\n",
       "        display_loaded();\n",
       "      }} else if (Date.now() < root._bokeh_timeout) {\n",
       "      setTimeout(run_inline_js, 100);\n",
       "    } else if (!root._bokeh_failed_load) {\n",
       "      console.log(\"Bokeh: BokehJS failed to load within specified timeout.\");\n",
       "      root._bokeh_failed_load = true;\n",
       "    } else if (force !== true) {\n",
       "      var cell = $(document.getElementById(\"1039\")).parents('.cell').data().cell;\n",
       "      cell.output_area.append_execute_result(NB_LOAD_WARNING)\n",
       "    }\n",
       "\n",
       "  }\n",
       "\n",
       "  if (root._bokeh_is_loading === 0) {\n",
       "    console.log(\"Bokeh: BokehJS loaded, going straight to plotting\");\n",
       "    run_inline_js();\n",
       "  } else {\n",
       "    load_libs(js_urls, function() {\n",
       "      console.log(\"Bokeh: BokehJS plotting callback run at\", now());\n",
       "      run_inline_js();\n",
       "    });\n",
       "  }\n",
       "}(window));"
      ],
      "application/vnd.bokehjs_load.v0+json": "\n(function(root) {\n  function now() {\n    return new Date();\n  }\n\n  var force = true;\n\n  if (typeof (root._bokeh_onload_callbacks) === \"undefined\" || force === true) {\n    root._bokeh_onload_callbacks = [];\n    root._bokeh_is_loading = undefined;\n  }\n\n  \n\n  \n  if (typeof (root._bokeh_timeout) === \"undefined\" || force === true) {\n    root._bokeh_timeout = Date.now() + 5000;\n    root._bokeh_failed_load = false;\n  }\n\n  var NB_LOAD_WARNING = {'data': {'text/html':\n     \"<div style='background-color: #fdd'>\\n\"+\n     \"<p>\\n\"+\n     \"BokehJS does not appear to have successfully loaded. If loading BokehJS from CDN, this \\n\"+\n     \"may be due to a slow or bad network connection. Possible fixes:\\n\"+\n     \"</p>\\n\"+\n     \"<ul>\\n\"+\n     \"<li>re-rerun `output_notebook()` to attempt to load from CDN again, or</li>\\n\"+\n     \"<li>use INLINE resources instead, as so:</li>\\n\"+\n     \"</ul>\\n\"+\n     \"<code>\\n\"+\n     \"from bokeh.resources import INLINE\\n\"+\n     \"output_notebook(resources=INLINE)\\n\"+\n     \"</code>\\n\"+\n     \"</div>\"}};\n\n  function display_loaded() {\n    var el = document.getElementById(\"1039\");\n    if (el != null) {\n      el.textContent = \"BokehJS is loading...\";\n    }\n    if (root.Bokeh !== undefined) {\n      if (el != null) {\n        el.textContent = \"BokehJS \" + root.Bokeh.version + \" successfully loaded.\";\n      }\n    } else if (Date.now() < root._bokeh_timeout) {\n      setTimeout(display_loaded, 100)\n    }\n  }\n\n\n  function run_callbacks() {\n    try {\n      root._bokeh_onload_callbacks.forEach(function(callback) { callback() });\n    }\n    finally {\n      delete root._bokeh_onload_callbacks\n    }\n    console.info(\"Bokeh: all callbacks have finished\");\n  }\n\n  function load_libs(js_urls, callback) {\n    root._bokeh_onload_callbacks.push(callback);\n    if (root._bokeh_is_loading > 0) {\n      console.log(\"Bokeh: BokehJS is being loaded, scheduling callback at\", now());\n      return null;\n    }\n    if (js_urls == null || js_urls.length === 0) {\n      run_callbacks();\n      return null;\n    }\n    console.log(\"Bokeh: BokehJS not loaded, scheduling load and callback at\", now());\n    root._bokeh_is_loading = js_urls.length;\n    for (var i = 0; i < js_urls.length; i++) {\n      var url = js_urls[i];\n      var s = document.createElement('script');\n      s.src = url;\n      s.async = false;\n      s.onreadystatechange = s.onload = function() {\n        root._bokeh_is_loading--;\n        if (root._bokeh_is_loading === 0) {\n          console.log(\"Bokeh: all BokehJS libraries loaded\");\n          run_callbacks()\n        }\n      };\n      s.onerror = function() {\n        console.warn(\"failed to load library \" + url);\n      };\n      console.log(\"Bokeh: injecting script tag for BokehJS library: \", url);\n      document.getElementsByTagName(\"head\")[0].appendChild(s);\n    }\n  };var element = document.getElementById(\"1039\");\n  if (element == null) {\n    console.log(\"Bokeh: ERROR: autoload.js configured with elementid '1039' but no matching script tag was found. \")\n    return false;\n  }\n\n  var js_urls = [\"https://cdn.pydata.org/bokeh/release/bokeh-1.0.4.min.js\", \"https://cdn.pydata.org/bokeh/release/bokeh-widgets-1.0.4.min.js\", \"https://cdn.pydata.org/bokeh/release/bokeh-tables-1.0.4.min.js\", \"https://cdn.pydata.org/bokeh/release/bokeh-gl-1.0.4.min.js\"];\n\n  var inline_js = [\n    function(Bokeh) {\n      Bokeh.set_log_level(\"info\");\n    },\n    \n    function(Bokeh) {\n      \n    },\n    function(Bokeh) {\n      console.log(\"Bokeh: injecting CSS: https://cdn.pydata.org/bokeh/release/bokeh-1.0.4.min.css\");\n      Bokeh.embed.inject_css(\"https://cdn.pydata.org/bokeh/release/bokeh-1.0.4.min.css\");\n      console.log(\"Bokeh: injecting CSS: https://cdn.pydata.org/bokeh/release/bokeh-widgets-1.0.4.min.css\");\n      Bokeh.embed.inject_css(\"https://cdn.pydata.org/bokeh/release/bokeh-widgets-1.0.4.min.css\");\n      console.log(\"Bokeh: injecting CSS: https://cdn.pydata.org/bokeh/release/bokeh-tables-1.0.4.min.css\");\n      Bokeh.embed.inject_css(\"https://cdn.pydata.org/bokeh/release/bokeh-tables-1.0.4.min.css\");\n    }\n  ];\n\n  function run_inline_js() {\n    \n    if ((root.Bokeh !== undefined) || (force === true)) {\n      for (var i = 0; i < inline_js.length; i++) {\n        inline_js[i].call(root, root.Bokeh);\n      }if (force === true) {\n        display_loaded();\n      }} else if (Date.now() < root._bokeh_timeout) {\n      setTimeout(run_inline_js, 100);\n    } else if (!root._bokeh_failed_load) {\n      console.log(\"Bokeh: BokehJS failed to load within specified timeout.\");\n      root._bokeh_failed_load = true;\n    } else if (force !== true) {\n      var cell = $(document.getElementById(\"1039\")).parents('.cell').data().cell;\n      cell.output_area.append_execute_result(NB_LOAD_WARNING)\n    }\n\n  }\n\n  if (root._bokeh_is_loading === 0) {\n    console.log(\"Bokeh: BokehJS loaded, going straight to plotting\");\n    run_inline_js();\n  } else {\n    load_libs(js_urls, function() {\n      console.log(\"Bokeh: BokehJS plotting callback run at\", now());\n      run_inline_js();\n    });\n  }\n}(window));"
     },
     "metadata": {},
     "output_type": "display_data"
    }
   ],
   "source": [
    "from bokeh.plotting import output_notebook\n",
    "\n",
    "output_notebook()"
   ]
  },
  {
   "cell_type": "markdown",
   "metadata": {},
   "source": [
    "## Line Charts"
   ]
  },
  {
   "cell_type": "code",
   "execution_count": 9,
   "metadata": {},
   "outputs": [
    {
     "data": {
      "text/html": [
       "\n",
       "\n",
       "\n",
       "\n",
       "\n",
       "\n",
       "  <div class=\"bk-root\" id=\"dbefe193-d370-4fbb-a1a1-d849aef68a33\" data-root-id=\"1755\"></div>\n"
      ]
     },
     "metadata": {},
     "output_type": "display_data"
    },
    {
     "data": {
      "application/javascript": [
       "(function(root) {\n",
       "  function embed_document(root) {\n",
       "    \n",
       "  var docs_json = {\"f0c19898-e4d9-4562-a896-2ca1fee42cc1\":{\"roots\":{\"references\":[{\"attributes\":{\"above\":[{\"id\":\"1781\",\"type\":\"Title\"}],\"background_fill_color\":{\"value\":\"white\"},\"below\":[{\"id\":\"1764\",\"type\":\"DatetimeAxis\"},{\"id\":\"1780\",\"type\":\"Label\"}],\"border_fill_color\":{\"value\":\"white\"},\"left\":[{\"id\":\"1769\",\"type\":\"LinearAxis\"}],\"min_border_bottom\":60,\"min_border_left\":60,\"min_border_right\":60,\"min_border_top\":40,\"outline_line_color\":{\"value\":\"white\"},\"plot_height\":540,\"plot_width\":960,\"renderers\":[{\"id\":\"1764\",\"type\":\"DatetimeAxis\"},{\"id\":\"1768\",\"type\":\"Grid\"},{\"id\":\"1769\",\"type\":\"LinearAxis\"},{\"id\":\"1773\",\"type\":\"Grid\"},{\"id\":\"1780\",\"type\":\"Label\"},{\"id\":\"1781\",\"type\":\"Title\"},{\"id\":\"1791\",\"type\":\"GlyphRenderer\"}],\"title\":{\"id\":\"1777\",\"type\":\"Title\"},\"toolbar\":{\"id\":\"1775\",\"type\":\"Toolbar\"},\"x_range\":{\"id\":\"1756\",\"type\":\"DataRange1d\"},\"x_scale\":{\"id\":\"1760\",\"type\":\"LinearScale\"},\"y_range\":{\"id\":\"1758\",\"type\":\"DataRange1d\"},\"y_scale\":{\"id\":\"1762\",\"type\":\"LinearScale\"}},\"id\":\"1755\",\"subtype\":\"Figure\",\"type\":\"Plot\"},{\"attributes\":{\"callback\":null},\"id\":\"1756\",\"type\":\"DataRange1d\"},{\"attributes\":{\"mantissas\":[1,2,5],\"max_interval\":500.0,\"num_minor_ticks\":0},\"id\":\"1861\",\"type\":\"AdaptiveTicker\"},{\"attributes\":{\"dimension\":1,\"grid_line_color\":{\"value\":null},\"plot\":{\"id\":\"1755\",\"subtype\":\"Figure\",\"type\":\"Plot\"},\"ticker\":{\"id\":\"1770\",\"type\":\"BasicTicker\"}},\"id\":\"1773\",\"type\":\"Grid\"},{\"attributes\":{\"source\":{\"id\":\"1787\",\"type\":\"ColumnDataSource\"}},\"id\":\"1792\",\"type\":\"CDSView\"},{\"attributes\":{\"base\":24,\"mantissas\":[1,2,4,6,8,12],\"max_interval\":43200000.0,\"min_interval\":3600000.0,\"num_minor_ticks\":0},\"id\":\"1863\",\"type\":\"AdaptiveTicker\"},{\"attributes\":{\"plot\":null,\"text\":\"Line charts\",\"text_color\":{\"value\":\"#333333\"},\"text_font_size\":{\"value\":\"18pt\"}},\"id\":\"1777\",\"type\":\"Title\"},{\"attributes\":{},\"id\":\"1770\",\"type\":\"BasicTicker\"},{\"attributes\":{\"level\":\"overlay\",\"name\":\"subtitle\",\"plot\":{\"id\":\"1755\",\"subtype\":\"Figure\",\"type\":\"Plot\"},\"text\":\"\",\"text_align\":\"right\",\"text_color\":{\"value\":\"#898989\"},\"text_font_size\":{\"value\":\"10px\"},\"x\":864.0,\"x_units\":\"screen\",\"y\":0,\"y_units\":\"screen\"},\"id\":\"1780\",\"type\":\"Label\"},{\"attributes\":{\"days\":[1,4,7,10,13,16,19,22,25,28]},\"id\":\"1865\",\"type\":\"DaysTicker\"},{\"attributes\":{\"axis_label_text_color\":{\"value\":\"#666666\"},\"axis_label_text_font_size\":{\"value\":\"11pt\"},\"axis_label_text_font_style\":\"bold\",\"axis_line_color\":{\"value\":\"#C0C0C0\"},\"formatter\":{\"id\":\"1785\",\"type\":\"NumeralTickFormatter\"},\"major_label_text_color\":{\"value\":\"#898989\"},\"major_label_text_font_size\":{\"value\":\"10pt\"},\"major_tick_in\":0,\"major_tick_line_color\":{\"value\":\"#C0C0C0\"},\"major_tick_out\":4,\"minor_tick_line_color\":{\"value\":\"#C0C0C0\"},\"minor_tick_out\":1,\"plot\":{\"id\":\"1755\",\"subtype\":\"Figure\",\"type\":\"Plot\"},\"ticker\":{\"id\":\"1770\",\"type\":\"BasicTicker\"}},\"id\":\"1769\",\"type\":\"LinearAxis\"},{\"attributes\":{\"grid_line_color\":{\"value\":null},\"plot\":{\"id\":\"1755\",\"subtype\":\"Figure\",\"type\":\"Plot\"},\"ticker\":{\"id\":\"1765\",\"type\":\"DatetimeTicker\"}},\"id\":\"1768\",\"type\":\"Grid\"},{\"attributes\":{\"format\":\"0,0.[00]\"},\"id\":\"1785\",\"type\":\"NumeralTickFormatter\"},{\"attributes\":{\"days\":[1,2,3,4,5,6,7,8,9,10,11,12,13,14,15,16,17,18,19,20,21,22,23,24,25,26,27,28,29,30,31]},\"id\":\"1864\",\"type\":\"DaysTicker\"},{\"attributes\":{\"num_minor_ticks\":5,\"tickers\":[{\"id\":\"1861\",\"type\":\"AdaptiveTicker\"},{\"id\":\"1862\",\"type\":\"AdaptiveTicker\"},{\"id\":\"1863\",\"type\":\"AdaptiveTicker\"},{\"id\":\"1864\",\"type\":\"DaysTicker\"},{\"id\":\"1865\",\"type\":\"DaysTicker\"},{\"id\":\"1866\",\"type\":\"DaysTicker\"},{\"id\":\"1867\",\"type\":\"DaysTicker\"},{\"id\":\"1868\",\"type\":\"MonthsTicker\"},{\"id\":\"1869\",\"type\":\"MonthsTicker\"},{\"id\":\"1870\",\"type\":\"MonthsTicker\"},{\"id\":\"1871\",\"type\":\"MonthsTicker\"},{\"id\":\"1872\",\"type\":\"YearsTicker\"}]},\"id\":\"1765\",\"type\":\"DatetimeTicker\"},{\"attributes\":{\"base\":60,\"mantissas\":[1,2,5,10,15,20,30],\"max_interval\":1800000.0,\"min_interval\":1000.0,\"num_minor_ticks\":0},\"id\":\"1862\",\"type\":\"AdaptiveTicker\"},{\"attributes\":{\"axis_label_text_color\":{\"value\":\"#666666\"},\"axis_label_text_font_size\":{\"value\":\"11pt\"},\"axis_label_text_font_style\":\"bold\",\"axis_line_color\":{\"value\":\"#C0C0C0\"},\"formatter\":{\"id\":\"1859\",\"type\":\"DatetimeTickFormatter\"},\"major_label_text_color\":{\"value\":\"#898989\"},\"major_label_text_font_size\":{\"value\":\"10pt\"},\"major_tick_in\":0,\"major_tick_line_color\":{\"value\":\"#C0C0C0\"},\"major_tick_out\":4,\"minor_tick_line_color\":{\"value\":\"#C0C0C0\"},\"minor_tick_out\":1,\"plot\":{\"id\":\"1755\",\"subtype\":\"Figure\",\"type\":\"Plot\"},\"ticker\":{\"id\":\"1765\",\"type\":\"DatetimeTicker\"}},\"id\":\"1764\",\"type\":\"DatetimeAxis\"},{\"attributes\":{\"line_cap\":\"round\",\"line_color\":\"#1f77b4\",\"line_join\":\"round\",\"line_width\":4,\"x\":{\"field\":\"date\"},\"y\":{\"field\":\"total_price\"}},\"id\":\"1789\",\"type\":\"Line\"},{\"attributes\":{},\"id\":\"1859\",\"type\":\"DatetimeTickFormatter\"},{\"attributes\":{},\"id\":\"1762\",\"type\":\"LinearScale\"},{\"attributes\":{\"callback\":null,\"data\":{\"date\":{\"__ndarray__\":\"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\",\"dtype\":\"float64\",\"shape\":[299]},\"index\":[0,1,2,3,4,5,6,7,8,9,10,11,12,13,14,15,16,17,18,19,20,21,22,23,24,25,26,27,28,29,30,31,32,33,34,35,36,37,38,39,40,41,42,43,44,45,46,47,48,49,50,51,52,53,54,55,56,57,58,59,60,61,62,63,64,65,66,67,68,69,70,71,72,73,74,75,76,77,78,79,80,81,82,83,84,85,86,87,88,89,90,91,92,93,94,95,96,97,98,99,100,101,102,103,104,105,106,107,108,109,110,111,112,113,114,115,116,117,118,119,120,121,122,123,124,125,126,127,128,129,130,131,132,133,134,135,136,137,138,139,140,141,142,143,144,145,146,147,148,149,150,151,152,153,154,155,156,157,158,159,160,161,162,163,164,165,166,167,168,169,170,171,172,173,174,175,176,177,178,179,180,181,182,183,184,185,186,187,188,189,190,191,192,193,194,195,196,197,198,199,200,201,202,203,204,205,206,207,208,209,210,211,212,213,214,215,216,217,218,219,220,221,222,223,224,225,226,227,228,229,230,231,232,233,234,235,236,237,238,239,240,241,242,243,244,245,246,247,248,249,250,251,252,253,254,255,256,257,258,259,260,261,262,263,264,265,266,267,268,269,270,271,272,273,274,275,276,277,278,279,280,281,282,283,284,285,286,287,288,289,290,291,292,293,294,295,296,297,298],\"total_price\":{\"__ndarray__\":\"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\",\"dtype\":\"float64\",\"shape\":[299]}},\"name\":\"Series:\",\"selected\":{\"id\":\"1873\",\"type\":\"Selection\"},\"selection_policy\":{\"id\":\"1874\",\"type\":\"UnionRenderers\"}},\"id\":\"1787\",\"type\":\"ColumnDataSource\"},{\"attributes\":{\"line_alpha\":0.1,\"line_cap\":\"round\",\"line_color\":\"#1f77b4\",\"line_join\":\"round\",\"line_width\":4,\"x\":{\"field\":\"date\"},\"y\":{\"field\":\"total_price\"}},\"id\":\"1790\",\"type\":\"Line\"},{\"attributes\":{},\"id\":\"1760\",\"type\":\"LinearScale\"},{\"attributes\":{\"months\":[0,1,2,3,4,5,6,7,8,9,10,11]},\"id\":\"1868\",\"type\":\"MonthsTicker\"},{\"attributes\":{\"callback\":null},\"id\":\"1758\",\"type\":\"DataRange1d\"},{\"attributes\":{\"plot\":{\"id\":\"1755\",\"subtype\":\"Figure\",\"type\":\"Plot\"},\"text\":\"Plot two numeric values connected by an ordered line.\",\"text_color\":{\"value\":\"#666666\"},\"text_font_size\":{\"value\":\"12pt\"}},\"id\":\"1781\",\"type\":\"Title\"},{\"attributes\":{\"days\":[1,15]},\"id\":\"1867\",\"type\":\"DaysTicker\"},{\"attributes\":{\"days\":[1,8,15,22]},\"id\":\"1866\",\"type\":\"DaysTicker\"},{\"attributes\":{},\"id\":\"1873\",\"type\":\"Selection\"},{\"attributes\":{\"data_source\":{\"id\":\"1787\",\"type\":\"ColumnDataSource\"},\"glyph\":{\"id\":\"1789\",\"type\":\"Line\"},\"hover_glyph\":null,\"muted_glyph\":null,\"nonselection_glyph\":{\"id\":\"1790\",\"type\":\"Line\"},\"selection_glyph\":null,\"view\":{\"id\":\"1792\",\"type\":\"CDSView\"}},\"id\":\"1791\",\"type\":\"GlyphRenderer\"},{\"attributes\":{},\"id\":\"1872\",\"type\":\"YearsTicker\"},{\"attributes\":{\"months\":[0,6]},\"id\":\"1871\",\"type\":\"MonthsTicker\"},{\"attributes\":{\"months\":[0,2,4,6,8,10]},\"id\":\"1869\",\"type\":\"MonthsTicker\"},{\"attributes\":{},\"id\":\"1874\",\"type\":\"UnionRenderers\"},{\"attributes\":{\"active_drag\":null,\"active_inspect\":\"auto\",\"active_multi\":null,\"active_scroll\":\"auto\",\"active_tap\":\"auto\",\"logo\":null,\"tools\":[{\"id\":\"1774\",\"type\":\"SaveTool\"}]},\"id\":\"1775\",\"type\":\"Toolbar\"},{\"attributes\":{},\"id\":\"1774\",\"type\":\"SaveTool\"},{\"attributes\":{\"months\":[0,4,8]},\"id\":\"1870\",\"type\":\"MonthsTicker\"}],\"root_ids\":[\"1755\"]},\"title\":\"Bokeh Application\",\"version\":\"1.0.4\"}};\n",
       "  var render_items = [{\"docid\":\"f0c19898-e4d9-4562-a896-2ca1fee42cc1\",\"roots\":{\"1755\":\"dbefe193-d370-4fbb-a1a1-d849aef68a33\"}}];\n",
       "  root.Bokeh.embed.embed_items_notebook(docs_json, render_items);\n",
       "\n",
       "  }\n",
       "  if (root.Bokeh !== undefined) {\n",
       "    embed_document(root);\n",
       "  } else {\n",
       "    var attempts = 0;\n",
       "    var timer = setInterval(function(root) {\n",
       "      if (root.Bokeh !== undefined) {\n",
       "        embed_document(root);\n",
       "        clearInterval(timer);\n",
       "      }\n",
       "      attempts++;\n",
       "      if (attempts > 100) {\n",
       "        console.log(\"Bokeh: ERROR: Unable to run BokehJS code because BokehJS library is missing\");\n",
       "        clearInterval(timer);\n",
       "      }\n",
       "    }, 10, root)\n",
       "  }\n",
       "})(window);"
      ],
      "application/vnd.bokehjs_exec.v0+json": ""
     },
     "metadata": {
      "application/vnd.bokehjs_exec.v0+json": {
       "id": "1755"
      }
     },
     "output_type": "display_data"
    }
   ],
   "source": [
    "import chartify\n",
    "\n",
    "# Generate example data\n",
    "data = chartify.examples.example_data()\n",
    "\n",
    "# Sum price grouped by date\n",
    "price_by_date = (\n",
    "    data.groupby('date')['total_price'].sum()\n",
    "    .reset_index()  # Move 'date' from index to column\n",
    ")\n",
    "\n",
    "# Plot the data\n",
    "ch = chartify.Chart(blank_labels=True, x_axis_type='datetime')\n",
    "ch.set_title(\"Line charts\")\n",
    "ch.set_subtitle(\"Plot two numeric values connected by an ordered line.\")\n",
    "ch.plot.line(\n",
    "    # Data must be sorted by x column\n",
    "    data_frame=price_by_date.sort_values('date'),\n",
    "    x_column='date',\n",
    "    y_column='total_price')\n",
    "ch.show()"
   ]
  },
  {
   "cell_type": "code",
   "execution_count": 11,
   "metadata": {},
   "outputs": [
    {
     "data": {
      "text/html": [
       "\n",
       "\n",
       "\n",
       "\n",
       "\n",
       "\n",
       "  <div class=\"bk-root\" id=\"2ed0c15f-3b1a-4f93-8b5f-01012821d957\" data-root-id=\"2019\"></div>\n"
      ]
     },
     "metadata": {},
     "output_type": "display_data"
    },
    {
     "data": {
      "application/javascript": [
       "(function(root) {\n",
       "  function embed_document(root) {\n",
       "    \n",
       "  var docs_json = {\"e9eaf728-0a7e-4027-a429-f06661b92585\":{\"roots\":{\"references\":[{\"attributes\":{\"above\":[{\"id\":\"2045\",\"type\":\"Title\"}],\"background_fill_color\":{\"value\":\"white\"},\"below\":[{\"id\":\"2028\",\"type\":\"DatetimeAxis\"},{\"id\":\"2044\",\"type\":\"Label\"}],\"border_fill_color\":{\"value\":\"white\"},\"left\":[{\"id\":\"2033\",\"type\":\"LinearAxis\"}],\"min_border_bottom\":60,\"min_border_left\":60,\"min_border_right\":60,\"min_border_top\":40,\"outline_line_color\":{\"value\":\"white\"},\"plot_height\":540,\"plot_width\":960,\"renderers\":[{\"id\":\"2028\",\"type\":\"DatetimeAxis\"},{\"id\":\"2032\",\"type\":\"Grid\"},{\"id\":\"2033\",\"type\":\"LinearAxis\"},{\"id\":\"2037\",\"type\":\"Grid\"},{\"id\":\"2044\",\"type\":\"Label\"},{\"id\":\"2045\",\"type\":\"Title\"},{\"id\":\"2055\",\"type\":\"GlyphRenderer\"},{\"id\":\"2062\",\"type\":\"GlyphRenderer\"}],\"title\":{\"id\":\"2041\",\"type\":\"Title\"},\"toolbar\":{\"id\":\"2039\",\"type\":\"Toolbar\"},\"x_range\":{\"id\":\"2020\",\"type\":\"DataRange1d\"},\"x_scale\":{\"id\":\"2024\",\"type\":\"LinearScale\"},\"y_range\":{\"id\":\"2022\",\"type\":\"DataRange1d\"},\"y_scale\":{\"id\":\"2026\",\"type\":\"LinearScale\"}},\"id\":\"2019\",\"subtype\":\"Figure\",\"type\":\"Plot\"},{\"attributes\":{\"callback\":null},\"id\":\"2020\",\"type\":\"DataRange1d\"},{\"attributes\":{\"source\":{\"id\":\"2051\",\"type\":\"ColumnDataSource\"}},\"id\":\"2056\",\"type\":\"CDSView\"},{\"attributes\":{\"months\":[0,6]},\"id\":\"2161\",\"type\":\"MonthsTicker\"},{\"attributes\":{},\"id\":\"2024\",\"type\":\"LinearScale\"},{\"attributes\":{\"callback\":null,\"data\":{\"date\":{\"__ndarray__\":\"AADA9vUAdkIAAIBcSAF2QgAAQMKaAXZCAAAAKO0BdkIAAMCNPwJ2QgAAgPORAnZCAABAWeQCdkIAAAC/NgN2QgAAwCSJA3ZCAACAitsDdkIAAEDwLQR2QgAAAFaABHZCAADAu9IEdkIAAIAhJQV2QgAAQId3BXZCAAAA7ckFdkIAAMBSHAZ2QgAAgLhuBnZCAABAHsEGdkIAAACEEwd2QgAAwOllB3ZCAACAT7gHdkIAAEC1Cgh2QgAAABtdCHZCAADAgK8IdkIAAIDmAQl2QgAAQExUCXZCAAAAsqYJdkIAAMAX+Ql2QgAAgH1LCnZCAABA450KdkI=\",\"dtype\":\"float64\",\"shape\":[31]},\"index\":[0,1,2,3,4,5,6,7,8,9,10,11,12,13,14,15,16,17,18,19,20,21,22,23,24,25,26,27,28,29,30],\"mean\":{\"__ndarray__\":\"CVryibwKAUDD0HxatdH8P44nG2fRQgFAHkYM9puJ7T+6kYpdl24BQO/DuXuOiwZAF9gDgq++A0ASM/ICWAUBQGW1eJF0lvo/nEdIuIwH9j+Pj6kzX6r6P+MgvKAGevc/yQwOvmPO9z98nPSfG4X/P8ziLW7BSPc/++xXc79EAEB9alsTvdMCQC/oE4qCXfg/58LprWX1+T9IeJ8QUij6Px8FRoDwMvc/fTxgMw8ZAUDQT0wBXX8JQI4lQEgN1/Y/GEOTbb9fAEDA9ne/6zr5P6JPDccjtwBAx4olpedY/z/PpQqF5gb6P8NLpOg7Xfg/dnwsIoDcAUA=\",\"dtype\":\"float64\",\"shape\":[31]}},\"name\":\"Series:\",\"selected\":{\"id\":\"2165\",\"type\":\"Selection\"},\"selection_policy\":{\"id\":\"2166\",\"type\":\"UnionRenderers\"}},\"id\":\"2058\",\"type\":\"ColumnDataSource\"},{\"attributes\":{\"line_alpha\":0.1,\"line_cap\":\"round\",\"line_color\":\"#1f77b4\",\"line_join\":\"round\",\"line_width\":4,\"x\":{\"field\":\"date\"},\"y\":{\"field\":\"mean\"}},\"id\":\"2061\",\"type\":\"Line\"},{\"attributes\":{},\"id\":\"2162\",\"type\":\"YearsTicker\"},{\"attributes\":{},\"id\":\"2163\",\"type\":\"Selection\"},{\"attributes\":{},\"id\":\"2164\",\"type\":\"UnionRenderers\"},{\"attributes\":{\"plot\":{\"id\":\"2019\",\"subtype\":\"Figure\",\"type\":\"Plot\"},\"text\":\"Use alone or combined with line graphs to represent confidence.\",\"text_color\":{\"value\":\"#666666\"},\"text_font_size\":{\"value\":\"12pt\"}},\"id\":\"2045\",\"type\":\"Title\"},{\"attributes\":{},\"id\":\"2165\",\"type\":\"Selection\"},{\"attributes\":{},\"id\":\"2166\",\"type\":\"UnionRenderers\"},{\"attributes\":{\"line_cap\":\"round\",\"line_color\":\"#1f77b4\",\"line_join\":\"round\",\"line_width\":4,\"x\":{\"field\":\"date\"},\"y\":{\"field\":\"mean\"}},\"id\":\"2060\",\"type\":\"Line\"},{\"attributes\":{\"format\":\"0,0.[0]\"},\"id\":\"2057\",\"type\":\"NumeralTickFormatter\"},{\"attributes\":{\"data_source\":{\"id\":\"2058\",\"type\":\"ColumnDataSource\"},\"glyph\":{\"id\":\"2060\",\"type\":\"Line\"},\"hover_glyph\":null,\"muted_glyph\":null,\"nonselection_glyph\":{\"id\":\"2061\",\"type\":\"Line\"},\"selection_glyph\":null,\"view\":{\"id\":\"2063\",\"type\":\"CDSView\"}},\"id\":\"2062\",\"type\":\"GlyphRenderer\"},{\"attributes\":{},\"id\":\"2149\",\"type\":\"DatetimeTickFormatter\"},{\"attributes\":{\"source\":{\"id\":\"2058\",\"type\":\"ColumnDataSource\"}},\"id\":\"2063\",\"type\":\"CDSView\"},{\"attributes\":{\"base\":60,\"mantissas\":[1,2,5,10,15,20,30],\"max_interval\":1800000.0,\"min_interval\":1000.0,\"num_minor_ticks\":0},\"id\":\"2152\",\"type\":\"AdaptiveTicker\"},{\"attributes\":{\"mantissas\":[1,2,5],\"max_interval\":500.0,\"num_minor_ticks\":0},\"id\":\"2151\",\"type\":\"AdaptiveTicker\"},{\"attributes\":{\"callback\":null},\"id\":\"2022\",\"type\":\"DataRange1d\"},{\"attributes\":{\"num_minor_ticks\":5,\"tickers\":[{\"id\":\"2151\",\"type\":\"AdaptiveTicker\"},{\"id\":\"2152\",\"type\":\"AdaptiveTicker\"},{\"id\":\"2153\",\"type\":\"AdaptiveTicker\"},{\"id\":\"2154\",\"type\":\"DaysTicker\"},{\"id\":\"2155\",\"type\":\"DaysTicker\"},{\"id\":\"2156\",\"type\":\"DaysTicker\"},{\"id\":\"2157\",\"type\":\"DaysTicker\"},{\"id\":\"2158\",\"type\":\"MonthsTicker\"},{\"id\":\"2159\",\"type\":\"MonthsTicker\"},{\"id\":\"2160\",\"type\":\"MonthsTicker\"},{\"id\":\"2161\",\"type\":\"MonthsTicker\"},{\"id\":\"2162\",\"type\":\"YearsTicker\"}]},\"id\":\"2029\",\"type\":\"DatetimeTicker\"},{\"attributes\":{\"base\":24,\"mantissas\":[1,2,4,6,8,12],\"max_interval\":43200000.0,\"min_interval\":3600000.0,\"num_minor_ticks\":0},\"id\":\"2153\",\"type\":\"AdaptiveTicker\"},{\"attributes\":{\"axis_label_text_color\":{\"value\":\"#666666\"},\"axis_label_text_font_size\":{\"value\":\"11pt\"},\"axis_label_text_font_style\":\"bold\",\"axis_line_color\":{\"value\":\"#C0C0C0\"},\"formatter\":{\"id\":\"2057\",\"type\":\"NumeralTickFormatter\"},\"major_label_text_color\":{\"value\":\"#898989\"},\"major_label_text_font_size\":{\"value\":\"10pt\"},\"major_tick_in\":0,\"major_tick_line_color\":{\"value\":\"#C0C0C0\"},\"major_tick_out\":4,\"minor_tick_line_color\":{\"value\":\"#C0C0C0\"},\"minor_tick_out\":1,\"plot\":{\"id\":\"2019\",\"subtype\":\"Figure\",\"type\":\"Plot\"},\"ticker\":{\"id\":\"2034\",\"type\":\"BasicTicker\"}},\"id\":\"2033\",\"type\":\"LinearAxis\"},{\"attributes\":{\"callback\":null,\"data\":{\"date\":{\"__ndarray__\":\"AADA9vUAdkIAAIBcSAF2QgAAQMKaAXZCAAAAKO0BdkIAAMCNPwJ2QgAAgPORAnZCAABAWeQCdkIAAAC/NgN2QgAAwCSJA3ZCAACAitsDdkIAAEDwLQR2QgAAAFaABHZCAADAu9IEdkIAAIAhJQV2QgAAQId3BXZCAAAA7ckFdkIAAMBSHAZ2QgAAgLhuBnZCAABAHsEGdkIAAACEEwd2QgAAwOllB3ZCAACAT7gHdkIAAEC1Cgh2QgAAABtdCHZCAADAgK8IdkIAAIDmAQl2QgAAQExUCXZCAAAAsqYJdkIAAMAX+Ql2QgAAgH1LCnZCAABA450KdkIAAEDjnQp2QgAAgH1LCnZCAADAF/kJdkIAAACypgl2QgAAQExUCXZCAACA5gEJdkIAAMCArwh2QgAAABtdCHZCAABAtQoIdkIAAIBPuAd2QgAAwOllB3ZCAAAAhBMHdkIAAEAewQZ2QgAAgLhuBnZCAADAUhwGdkIAAADtyQV2QgAAQId3BXZCAACAISUFdkIAAMC70gR2QgAAAFaABHZCAABA8C0EdkIAAICK2wN2QgAAwCSJA3ZCAAAAvzYDdkIAAEBZ5AJ2QgAAgPORAnZCAADAjT8CdkIAAAAo7QF2QgAAQMKaAXZCAACAXEgBdkIAAMD29QB2Qg==\",\"dtype\":\"float64\",\"shape\":[62]},\"index\":[0,1,2,3,4,5,6,7,8,9,10,11,12,13,14,15,16,17,18,19,20,21,22,23,24,25,26,27,28,29,30,30,29,28,27,26,25,24,23,22,21,20,19,18,17,16,15,14,13,12,11,10,9,8,7,6,5,4,3,2,1,0],\"lower_ci\":{\"__ndarray__\":\"qI6GYnL6xj+6Imp24iruP3D7BfGevPQ/NtAhJE5y3T804J7Q2fHzPweNhRmCNfM/Nbmm8fE4+T9C75WLfy7oPzsJFMTRfvE/jtlLTjxW7D9QZZWmG6HeP6JWm66muOw/1AWhpN2t4z+c6eC910bkP9JGv1waDt4/jltAbs2U6z9g9EjSw4vSvxQfLYYBrPI/lL/fgAzR0z9ILuHWZXXwP2wwXBOmReU/yHYDEGjl9j9jlbzFwQAAQOiRFqfcBOs/spw8CRtN7z9HC1e1wprtP3SkjeOHAPc/Fr3KCVrY9z/64c8jzHfxP/f22Eq17eU/cOe8eHAV7D8QvykmpLMMQAUO7pXO4QJA0rQicwBLAUA8LECgumwDQArNU5wD7gVA7jMiEjvUAUAEX9cYOOwIQBSBeh7WFQBAHgVuHvx+EUCWvb5ear8GQAT5bvuG4QFAJOEuJZ/tAUD0ys0dRHsHQEqx+o0DD/4/w/l/UHn8E0ASwx+LS6QJQPL5lSL+hgNAFWJ8sGVzCkBUy+VU7OICQDpLFfXcSwBA5eLWvjvWBkBxompJ++P9P8iwbq8L1wFAVOr+IhD/C0CUUzQL5uAKQK1gWPUtvhFAWrPF0kHkCEAQ0gNtCC32P2RRs1VTJwhAFEjivPxGBUCUJd726FIQQA==\",\"dtype\":\"float64\",\"shape\":[62]}},\"name\":\"Series:\",\"selected\":{\"id\":\"2163\",\"type\":\"Selection\"},\"selection_policy\":{\"id\":\"2164\",\"type\":\"UnionRenderers\"}},\"id\":\"2051\",\"type\":\"ColumnDataSource\"},{\"attributes\":{},\"id\":\"2026\",\"type\":\"LinearScale\"},{\"attributes\":{\"days\":[1,2,3,4,5,6,7,8,9,10,11,12,13,14,15,16,17,18,19,20,21,22,23,24,25,26,27,28,29,30,31]},\"id\":\"2154\",\"type\":\"DaysTicker\"},{\"attributes\":{\"axis_label_text_color\":{\"value\":\"#666666\"},\"axis_label_text_font_size\":{\"value\":\"11pt\"},\"axis_label_text_font_style\":\"bold\",\"axis_line_color\":{\"value\":\"#C0C0C0\"},\"formatter\":{\"id\":\"2149\",\"type\":\"DatetimeTickFormatter\"},\"major_label_text_color\":{\"value\":\"#898989\"},\"major_label_text_font_size\":{\"value\":\"10pt\"},\"major_tick_in\":0,\"major_tick_line_color\":{\"value\":\"#C0C0C0\"},\"major_tick_out\":4,\"minor_tick_line_color\":{\"value\":\"#C0C0C0\"},\"minor_tick_out\":1,\"plot\":{\"id\":\"2019\",\"subtype\":\"Figure\",\"type\":\"Plot\"},\"ticker\":{\"id\":\"2029\",\"type\":\"DatetimeTicker\"}},\"id\":\"2028\",\"type\":\"DatetimeAxis\"},{\"attributes\":{\"days\":[1,4,7,10,13,16,19,22,25,28]},\"id\":\"2155\",\"type\":\"DaysTicker\"},{\"attributes\":{\"data_source\":{\"id\":\"2051\",\"type\":\"ColumnDataSource\"},\"glyph\":{\"id\":\"2053\",\"type\":\"Patch\"},\"hover_glyph\":null,\"muted_glyph\":null,\"nonselection_glyph\":{\"id\":\"2054\",\"type\":\"Patch\"},\"selection_glyph\":null,\"view\":{\"id\":\"2056\",\"type\":\"CDSView\"}},\"id\":\"2055\",\"type\":\"GlyphRenderer\"},{\"attributes\":{\"fill_alpha\":0.1,\"fill_color\":\"#1f77b4\",\"line_alpha\":0.1,\"line_color\":\"#1f77b4\",\"x\":{\"field\":\"date\"},\"y\":{\"field\":\"lower_ci\"}},\"id\":\"2054\",\"type\":\"Patch\"},{\"attributes\":{},\"id\":\"2034\",\"type\":\"BasicTicker\"},{\"attributes\":{\"days\":[1,8,15,22]},\"id\":\"2156\",\"type\":\"DaysTicker\"},{\"attributes\":{\"dimension\":1,\"grid_line_color\":{\"value\":null},\"plot\":{\"id\":\"2019\",\"subtype\":\"Figure\",\"type\":\"Plot\"},\"ticker\":{\"id\":\"2034\",\"type\":\"BasicTicker\"}},\"id\":\"2037\",\"type\":\"Grid\"},{\"attributes\":{\"days\":[1,15]},\"id\":\"2157\",\"type\":\"DaysTicker\"},{\"attributes\":{\"grid_line_color\":{\"value\":null},\"plot\":{\"id\":\"2019\",\"subtype\":\"Figure\",\"type\":\"Plot\"},\"ticker\":{\"id\":\"2029\",\"type\":\"DatetimeTicker\"}},\"id\":\"2032\",\"type\":\"Grid\"},{\"attributes\":{\"active_drag\":null,\"active_inspect\":\"auto\",\"active_multi\":null,\"active_scroll\":\"auto\",\"active_tap\":\"auto\",\"logo\":null,\"tools\":[{\"id\":\"2038\",\"type\":\"SaveTool\"}]},\"id\":\"2039\",\"type\":\"Toolbar\"},{\"attributes\":{\"months\":[0,1,2,3,4,5,6,7,8,9,10,11]},\"id\":\"2158\",\"type\":\"MonthsTicker\"},{\"attributes\":{},\"id\":\"2038\",\"type\":\"SaveTool\"},{\"attributes\":{\"months\":[0,2,4,6,8,10]},\"id\":\"2159\",\"type\":\"MonthsTicker\"},{\"attributes\":{\"fill_alpha\":0.2,\"fill_color\":\"#1f77b4\",\"line_alpha\":0.2,\"line_color\":\"#1f77b4\",\"x\":{\"field\":\"date\"},\"y\":{\"field\":\"lower_ci\"}},\"id\":\"2053\",\"type\":\"Patch\"},{\"attributes\":{\"level\":\"overlay\",\"name\":\"subtitle\",\"plot\":{\"id\":\"2019\",\"subtype\":\"Figure\",\"type\":\"Plot\"},\"text\":\"\",\"text_align\":\"right\",\"text_color\":{\"value\":\"#898989\"},\"text_font_size\":{\"value\":\"10px\"},\"x\":864.0,\"x_units\":\"screen\",\"y\":0,\"y_units\":\"screen\"},\"id\":\"2044\",\"type\":\"Label\"},{\"attributes\":{\"plot\":null,\"text\":\"Area with second_y_column\",\"text_color\":{\"value\":\"#333333\"},\"text_font_size\":{\"value\":\"18pt\"}},\"id\":\"2041\",\"type\":\"Title\"},{\"attributes\":{\"months\":[0,4,8]},\"id\":\"2160\",\"type\":\"MonthsTicker\"}],\"root_ids\":[\"2019\"]},\"title\":\"Bokeh Application\",\"version\":\"1.0.4\"}};\n",
       "  var render_items = [{\"docid\":\"e9eaf728-0a7e-4027-a429-f06661b92585\",\"roots\":{\"2019\":\"2ed0c15f-3b1a-4f93-8b5f-01012821d957\"}}];\n",
       "  root.Bokeh.embed.embed_items_notebook(docs_json, render_items);\n",
       "\n",
       "  }\n",
       "  if (root.Bokeh !== undefined) {\n",
       "    embed_document(root);\n",
       "  } else {\n",
       "    var attempts = 0;\n",
       "    var timer = setInterval(function(root) {\n",
       "      if (root.Bokeh !== undefined) {\n",
       "        embed_document(root);\n",
       "        clearInterval(timer);\n",
       "      }\n",
       "      attempts++;\n",
       "      if (attempts > 100) {\n",
       "        console.log(\"Bokeh: ERROR: Unable to run BokehJS code because BokehJS library is missing\");\n",
       "        clearInterval(timer);\n",
       "      }\n",
       "    }, 10, root)\n",
       "  }\n",
       "})(window);"
      ],
      "application/vnd.bokehjs_exec.v0+json": ""
     },
     "metadata": {
      "application/vnd.bokehjs_exec.v0+json": {
       "id": "2019"
      }
     },
     "output_type": "display_data"
    }
   ],
   "source": [
    "price_by_date = (data.groupby(['date'])['total_price'].agg(\n",
    "    ['mean', 'std', 'count'])\n",
    "    .loc['2017-12-01':].assign(\n",
    "        lower_ci=lambda x: x['mean'] - 1.96 * x['std'] / x['count']**.5,\n",
    "        upper_ci=lambda x: x['mean'] + 1.96 * x['std'] / x['count']**.5)\n",
    "    .reset_index())\n",
    "\n",
    "# Plot the data\n",
    "ch = chartify.Chart(blank_labels=True, x_axis_type='datetime')\n",
    "ch.set_title(\"Area with second_y_column\")\n",
    "ch.set_subtitle(\n",
    "    \"Use alone or combined with line graphs to represent confidence.\"\n",
    ")\n",
    "ch.plot.area(\n",
    "    data_frame=price_by_date,\n",
    "    x_column='date',\n",
    "    y_column='lower_ci',\n",
    "    second_y_column='upper_ci')\n",
    "# Reset to ensure same color of line & shaded interval\n",
    "ch.style.color_palette.reset_palette_order()\n",
    "ch.plot.line(\n",
    "    data_frame=price_by_date,\n",
    "    x_column='date',\n",
    "    y_column='mean')\n",
    "ch.show()"
   ]
  },
  {
   "cell_type": "markdown",
   "metadata": {},
   "source": [
    "## Scatter Plot"
   ]
  },
  {
   "cell_type": "code",
   "execution_count": 7,
   "metadata": {},
   "outputs": [
    {
     "data": {
      "text/html": [
       "\n",
       "\n",
       "\n",
       "\n",
       "\n",
       "\n",
       "  <div class=\"bk-root\" id=\"be4ac4bd-70ad-45c6-beb2-e89078ee865c\" data-root-id=\"1211\"></div>\n"
      ]
     },
     "metadata": {},
     "output_type": "display_data"
    },
    {
     "data": {
      "application/javascript": [
       "(function(root) {\n",
       "  function embed_document(root) {\n",
       "    \n",
       "  var docs_json = {\"1c19421c-3755-44ff-9bcf-b4eb4f6f0a68\":{\"roots\":{\"references\":[{\"attributes\":{\"above\":[{\"id\":\"1237\",\"type\":\"Title\"}],\"background_fill_color\":{\"value\":\"white\"},\"below\":[{\"id\":\"1220\",\"type\":\"DatetimeAxis\"},{\"id\":\"1236\",\"type\":\"Label\"}],\"border_fill_color\":{\"value\":\"white\"},\"left\":[{\"id\":\"1225\",\"type\":\"LinearAxis\"}],\"min_border_bottom\":60,\"min_border_left\":60,\"min_border_right\":60,\"min_border_top\":40,\"outline_line_color\":{\"value\":\"white\"},\"plot_height\":540,\"plot_width\":960,\"renderers\":[{\"id\":\"1220\",\"type\":\"DatetimeAxis\"},{\"id\":\"1224\",\"type\":\"Grid\"},{\"id\":\"1225\",\"type\":\"LinearAxis\"},{\"id\":\"1229\",\"type\":\"Grid\"},{\"id\":\"1236\",\"type\":\"Label\"},{\"id\":\"1237\",\"type\":\"Title\"},{\"id\":\"1246\",\"type\":\"GlyphRenderer\"}],\"title\":{\"id\":\"1233\",\"type\":\"Title\"},\"toolbar\":{\"id\":\"1231\",\"type\":\"Toolbar\"},\"x_range\":{\"id\":\"1212\",\"type\":\"DataRange1d\"},\"x_scale\":{\"id\":\"1216\",\"type\":\"LinearScale\"},\"y_range\":{\"id\":\"1214\",\"type\":\"DataRange1d\"},\"y_scale\":{\"id\":\"1218\",\"type\":\"LinearScale\"}},\"id\":\"1211\",\"subtype\":\"Figure\",\"type\":\"Plot\"},{\"attributes\":{\"base\":24,\"mantissas\":[1,2,4,6,8,12],\"max_interval\":43200000.0,\"min_interval\":3600000.0,\"num_minor_ticks\":0},\"id\":\"1275\",\"type\":\"AdaptiveTicker\"},{\"attributes\":{},\"id\":\"1218\",\"type\":\"LinearScale\"},{\"attributes\":{\"fill_color\":{\"value\":\"#1f77b4\"},\"line_color\":{\"value\":\"#1f77b4\"},\"size\":{\"units\":\"screen\",\"value\":6},\"x\":{\"field\":\"date\"},\"y\":{\"field\":\"unit_price\"}},\"id\":\"1244\",\"type\":\"Scatter\"},{\"attributes\":{\"days\":[1,2,3,4,5,6,7,8,9,10,11,12,13,14,15,16,17,18,19,20,21,22,23,24,25,26,27,28,29,30,31]},\"id\":\"1276\",\"type\":\"DaysTicker\"},{\"attributes\":{},\"id\":\"1216\",\"type\":\"LinearScale\"},{\"attributes\":{},\"id\":\"1271\",\"type\":\"DatetimeTickFormatter\"},{\"attributes\":{\"days\":[1,4,7,10,13,16,19,22,25,28]},\"id\":\"1277\",\"type\":\"DaysTicker\"},{\"attributes\":{\"callback\":null},\"id\":\"1214\",\"type\":\"DataRange1d\"},{\"attributes\":{\"plot\":null,\"text\":\"Scatterplot\",\"text_color\":{\"value\":\"#333333\"},\"text_font_size\":{\"value\":\"18pt\"}},\"id\":\"1233\",\"type\":\"Title\"},{\"attributes\":{\"format\":\"0,0.[0]\"},\"id\":\"1240\",\"type\":\"NumeralTickFormatter\"},{\"attributes\":{\"days\":[1,8,15,22]},\"id\":\"1278\",\"type\":\"DaysTicker\"},{\"attributes\":{\"days\":[1,15]},\"id\":\"1279\",\"type\":\"DaysTicker\"},{\"attributes\":{\"months\":[0,1,2,3,4,5,6,7,8,9,10,11]},\"id\":\"1280\",\"type\":\"MonthsTicker\"},{\"attributes\":{\"months\":[0,2,4,6,8,10]},\"id\":\"1281\",\"type\":\"MonthsTicker\"},{\"attributes\":{\"plot\":{\"id\":\"1211\",\"subtype\":\"Figure\",\"type\":\"Plot\"},\"text\":\"Plot two numeric values.\",\"text_color\":{\"value\":\"#666666\"},\"text_font_size\":{\"value\":\"12pt\"}},\"id\":\"1237\",\"type\":\"Title\"},{\"attributes\":{\"months\":[0,4,8]},\"id\":\"1282\",\"type\":\"MonthsTicker\"},{\"attributes\":{\"months\":[0,6]},\"id\":\"1283\",\"type\":\"MonthsTicker\"},{\"attributes\":{},\"id\":\"1284\",\"type\":\"YearsTicker\"},{\"attributes\":{},\"id\":\"1285\",\"type\":\"Selection\"},{\"attributes\":{\"level\":\"overlay\",\"name\":\"subtitle\",\"plot\":{\"id\":\"1211\",\"subtype\":\"Figure\",\"type\":\"Plot\"},\"text\":\"\",\"text_align\":\"right\",\"text_color\":{\"value\":\"#898989\"},\"text_font_size\":{\"value\":\"10px\"},\"x\":864.0,\"x_units\":\"screen\",\"y\":0,\"y_units\":\"screen\"},\"id\":\"1236\",\"type\":\"Label\"},{\"attributes\":{},\"id\":\"1230\",\"type\":\"SaveTool\"},{\"attributes\":{},\"id\":\"1286\",\"type\":\"UnionRenderers\"},{\"attributes\":{\"mantissas\":[1,2,5],\"max_interval\":500.0,\"num_minor_ticks\":0},\"id\":\"1273\",\"type\":\"AdaptiveTicker\"},{\"attributes\":{\"active_drag\":null,\"active_inspect\":\"auto\",\"active_multi\":null,\"active_scroll\":\"auto\",\"active_tap\":\"auto\",\"logo\":null,\"tools\":[{\"id\":\"1230\",\"type\":\"SaveTool\"}]},\"id\":\"1231\",\"type\":\"Toolbar\"},{\"attributes\":{\"callback\":null},\"id\":\"1212\",\"type\":\"DataRange1d\"},{\"attributes\":{\"dimension\":1,\"grid_line_color\":{\"value\":null},\"plot\":{\"id\":\"1211\",\"subtype\":\"Figure\",\"type\":\"Plot\"},\"ticker\":{\"id\":\"1226\",\"type\":\"BasicTicker\"}},\"id\":\"1229\",\"type\":\"Grid\"},{\"attributes\":{\"fill_alpha\":{\"value\":0.1},\"fill_color\":{\"value\":\"#1f77b4\"},\"line_alpha\":{\"value\":0.1},\"line_color\":{\"value\":\"#1f77b4\"},\"size\":{\"units\":\"screen\",\"value\":6},\"x\":{\"field\":\"date\"},\"y\":{\"field\":\"unit_price\"}},\"id\":\"1245\",\"type\":\"Scatter\"},{\"attributes\":{\"callback\":null,\"data\":{\"date\":{\"__ndarray__\":\"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\",\"dtype\":\"float64\",\"shape\":[1000]},\"index\":[0,1,2,3,4,5,6,7,8,9,10,11,12,13,14,15,16,17,18,19,20,21,22,23,24,25,26,27,28,29,30,31,32,33,34,35,36,37,38,39,40,41,42,43,44,45,46,47,48,49,50,51,52,53,54,55,56,57,58,59,60,61,62,63,64,65,66,67,68,69,70,71,72,73,74,75,76,77,78,79,80,81,82,83,84,85,86,87,88,89,90,91,92,93,94,95,96,97,98,99,100,101,102,103,104,105,106,107,108,109,110,111,112,113,114,115,116,117,118,119,120,121,122,123,124,125,126,127,128,129,130,131,132,133,134,135,136,137,138,139,140,141,142,143,144,145,146,147,148,149,150,151,152,153,154,155,156,157,158,159,160,161,162,163,164,165,166,167,168,169,170,171,172,173,174,175,176,177,178,179,180,181,182,183,184,185,186,187,188,189,190,191,192,193,194,195,196,197,198,199,200,201,202,203,204,205,206,207,208,209,210,211,212,213,214,215,216,217,218,219,220,221,222,223,224,225,226,227,228,229,230,231,232,233,234,235,236,237,238,239,240,241,242,243,244,245,246,247,248,249,250,251,252,253,254,255,256,257,258,259,260,261,262,263,264,265,266,267,268,269,270,271,272,273,274,275,276,277,278,279,280,281,282,283,284,285,286,287,288,289,290,291,292,293,294,295,296,297,298,299,300,301,302,303,304,305,306,307,308,309,310,311,312,313,314,315,316,317,318,319,320,321,322,323,324,325,326,327,328,329,330,331,332,333,334,335,336,337,338,339,340,341,342,343,344,345,346,347,348,349,350,351,352,353,354,355,356,357,358,359,360,361,362,363,364,365,366,367,368,369,370,371,372,373,374,375,376,377,378,379,380,381,382,383,384,385,386,387,388,389,390,391,392,393,394,395,396,397,398,399,400,401,402,403,404,405,406,407,408,409,410,411,412,413,414,415,416,417,418,419,420,421,422,423,424,425,426,427,428,429,430,431,432,433,434,435,436,437,438,439,440,441,442,443,444,445,446,447,448,449,450,451,452,453,454,455,456,457,458,459,460,461,462,463,464,465,466,467,468,469,470,471,472,473,474,475,476,477,478,479,480,481,482,483,484,485,486,487,488,489,490,491,492,493,494,495,496,497,498,499,500,501,502,503,504,505,506,507,508,509,510,511,512,513,514,515,516,517,518,519,520,521,522,523,524,525,526,527,528,529,530,531,532,533,534,535,536,537,538,539,540,541,542,543,544,545,546,547,548,549,550,551,552,553,554,555,556,557,558,559,560,561,562,563,564,565,566,567,568,569,570,571,572,573,574,575,576,577,578,579,580,581,582,583,584,585,586,587,588,589,590,591,592,593,594,595,596,597,598,599,600,601,602,603,604,605,606,607,608,609,610,611,612,613,614,615,616,617,618,619,620,621,622,623,624,625,626,627,628,629,630,631,632,633,634,635,636,637,638,639,640,641,642,643,644,645,646,647,648,649,650,651,652,653,654,655,656,657,658,659,660,661,662,663,664,665,666,667,668,669,670,671,672,673,674,675,676,677,678,679,680,681,682,683,684,685,686,687,688,689,690,691,692,693,694,695,696,697,698,699,700,701,702,703,704,705,706,707,708,709,710,711,712,713,714,715,716,717,718,719,720,721,722,723,724,725,726,727,728,729,730,731,732,733,734,735,736,737,738,739,740,741,742,743,744,745,746,747,748,749,750,751,752,753,754,755,756,757,758,759,760,761,762,763,764,765,766,767,768,769,770,771,772,773,774,775,776,777,778,779,780,781,782,783,784,785,786,787,788,789,790,791,792,793,794,795,796,797,798,799,800,801,802,803,804,805,806,807,808,809,810,811,812,813,814,815,816,817,818,819,820,821,822,823,824,825,826,827,828,829,830,831,832,833,834,835,836,837,838,839,840,841,842,843,844,845,846,847,848,849,850,851,852,853,854,855,856,857,858,859,860,861,862,863,864,865,866,867,868,869,870,871,872,873,874,875,876,877,878,879,880,881,882,883,884,885,886,887,888,889,890,891,892,893,894,895,896,897,898,899,900,901,902,903,904,905,906,907,908,909,910,911,912,913,914,915,916,917,918,919,920,921,922,923,924,925,926,927,928,929,930,931,932,933,934,935,936,937,938,939,940,941,942,943,944,945,946,947,948,949,950,951,952,953,954,955,956,957,958,959,960,961,962,963,964,965,966,967,968,969,970,971,972,973,974,975,976,977,978,979,980,981,982,983,984,985,986,987,988,989,990,991,992,993,994,995,996,997,998,999],\"unit_price\":{\"__ndarray__\":\"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\",\"dtype\":\"float64\",\"shape\":[1000]}},\"name\":\"Series:\",\"selected\":{\"id\":\"1285\",\"type\":\"Selection\"},\"selection_policy\":{\"id\":\"1286\",\"type\":\"UnionRenderers\"}},\"id\":\"1242\",\"type\":\"ColumnDataSource\"},{\"attributes\":{},\"id\":\"1226\",\"type\":\"BasicTicker\"},{\"attributes\":{\"axis_label_text_color\":{\"value\":\"#666666\"},\"axis_label_text_font_size\":{\"value\":\"11pt\"},\"axis_label_text_font_style\":\"bold\",\"axis_line_color\":{\"value\":\"#C0C0C0\"},\"formatter\":{\"id\":\"1240\",\"type\":\"NumeralTickFormatter\"},\"major_label_text_color\":{\"value\":\"#898989\"},\"major_label_text_font_size\":{\"value\":\"10pt\"},\"major_tick_in\":0,\"major_tick_line_color\":{\"value\":\"#C0C0C0\"},\"major_tick_out\":4,\"minor_tick_line_color\":{\"value\":\"#C0C0C0\"},\"minor_tick_out\":1,\"plot\":{\"id\":\"1211\",\"subtype\":\"Figure\",\"type\":\"Plot\"},\"ticker\":{\"id\":\"1226\",\"type\":\"BasicTicker\"}},\"id\":\"1225\",\"type\":\"LinearAxis\"},{\"attributes\":{\"data_source\":{\"id\":\"1242\",\"type\":\"ColumnDataSource\"},\"glyph\":{\"id\":\"1244\",\"type\":\"Scatter\"},\"hover_glyph\":null,\"muted_glyph\":null,\"nonselection_glyph\":{\"id\":\"1245\",\"type\":\"Scatter\"},\"selection_glyph\":null,\"view\":{\"id\":\"1247\",\"type\":\"CDSView\"}},\"id\":\"1246\",\"type\":\"GlyphRenderer\"},{\"attributes\":{\"grid_line_color\":{\"value\":null},\"plot\":{\"id\":\"1211\",\"subtype\":\"Figure\",\"type\":\"Plot\"},\"ticker\":{\"id\":\"1221\",\"type\":\"DatetimeTicker\"}},\"id\":\"1224\",\"type\":\"Grid\"},{\"attributes\":{\"source\":{\"id\":\"1242\",\"type\":\"ColumnDataSource\"}},\"id\":\"1247\",\"type\":\"CDSView\"},{\"attributes\":{\"num_minor_ticks\":5,\"tickers\":[{\"id\":\"1273\",\"type\":\"AdaptiveTicker\"},{\"id\":\"1274\",\"type\":\"AdaptiveTicker\"},{\"id\":\"1275\",\"type\":\"AdaptiveTicker\"},{\"id\":\"1276\",\"type\":\"DaysTicker\"},{\"id\":\"1277\",\"type\":\"DaysTicker\"},{\"id\":\"1278\",\"type\":\"DaysTicker\"},{\"id\":\"1279\",\"type\":\"DaysTicker\"},{\"id\":\"1280\",\"type\":\"MonthsTicker\"},{\"id\":\"1281\",\"type\":\"MonthsTicker\"},{\"id\":\"1282\",\"type\":\"MonthsTicker\"},{\"id\":\"1283\",\"type\":\"MonthsTicker\"},{\"id\":\"1284\",\"type\":\"YearsTicker\"}]},\"id\":\"1221\",\"type\":\"DatetimeTicker\"},{\"attributes\":{\"base\":60,\"mantissas\":[1,2,5,10,15,20,30],\"max_interval\":1800000.0,\"min_interval\":1000.0,\"num_minor_ticks\":0},\"id\":\"1274\",\"type\":\"AdaptiveTicker\"},{\"attributes\":{\"axis_label_text_color\":{\"value\":\"#666666\"},\"axis_label_text_font_size\":{\"value\":\"11pt\"},\"axis_label_text_font_style\":\"bold\",\"axis_line_color\":{\"value\":\"#C0C0C0\"},\"formatter\":{\"id\":\"1271\",\"type\":\"DatetimeTickFormatter\"},\"major_label_text_color\":{\"value\":\"#898989\"},\"major_label_text_font_size\":{\"value\":\"10pt\"},\"major_tick_in\":0,\"major_tick_line_color\":{\"value\":\"#C0C0C0\"},\"major_tick_out\":4,\"minor_tick_line_color\":{\"value\":\"#C0C0C0\"},\"minor_tick_out\":1,\"plot\":{\"id\":\"1211\",\"subtype\":\"Figure\",\"type\":\"Plot\"},\"ticker\":{\"id\":\"1221\",\"type\":\"DatetimeTicker\"}},\"id\":\"1220\",\"type\":\"DatetimeAxis\"}],\"root_ids\":[\"1211\"]},\"title\":\"Bokeh Application\",\"version\":\"1.0.4\"}};\n",
       "  var render_items = [{\"docid\":\"1c19421c-3755-44ff-9bcf-b4eb4f6f0a68\",\"roots\":{\"1211\":\"be4ac4bd-70ad-45c6-beb2-e89078ee865c\"}}];\n",
       "  root.Bokeh.embed.embed_items_notebook(docs_json, render_items);\n",
       "\n",
       "  }\n",
       "  if (root.Bokeh !== undefined) {\n",
       "    embed_document(root);\n",
       "  } else {\n",
       "    var attempts = 0;\n",
       "    var timer = setInterval(function(root) {\n",
       "      if (root.Bokeh !== undefined) {\n",
       "        embed_document(root);\n",
       "        clearInterval(timer);\n",
       "      }\n",
       "      attempts++;\n",
       "      if (attempts > 100) {\n",
       "        console.log(\"Bokeh: ERROR: Unable to run BokehJS code because BokehJS library is missing\");\n",
       "        clearInterval(timer);\n",
       "      }\n",
       "    }, 10, root)\n",
       "  }\n",
       "})(window);"
      ],
      "application/vnd.bokehjs_exec.v0+json": ""
     },
     "metadata": {
      "application/vnd.bokehjs_exec.v0+json": {
       "id": "1211"
      }
     },
     "output_type": "display_data"
    }
   ],
   "source": [
    "import numpy as np\n",
    "import pandas as pd\n",
    "import chartify\n",
    "\n",
    "# Generate example data\n",
    "data = chartify.examples.example_data()\n",
    "\n",
    "\n",
    "# Plot the data\n",
    "ch = chartify.Chart(blank_labels=True, x_axis_type='datetime')\n",
    "ch.plot.scatter(\n",
    "    data_frame=data,\n",
    "    x_column='date',\n",
    "    y_column='unit_price'\n",
    ")\n",
    "ch.set_title(\"Scatterplot\")\n",
    "ch.set_subtitle(\"Plot two numeric values.\")\n",
    "ch.show()"
   ]
  },
  {
   "cell_type": "code",
   "execution_count": 8,
   "metadata": {},
   "outputs": [
    {
     "data": {
      "text/html": [
       "\n",
       "\n",
       "\n",
       "\n",
       "\n",
       "\n",
       "  <div class=\"bk-root\" id=\"1d358add-a64c-4fd3-9730-b989af376da2\" data-root-id=\"1401\"></div>\n"
      ]
     },
     "metadata": {},
     "output_type": "display_data"
    },
    {
     "data": {
      "application/javascript": [
       "(function(root) {\n",
       "  function embed_document(root) {\n",
       "    \n",
       "  var docs_json = {\"0b9f3912-71cd-4667-8c65-473a3fbb8e0d\":{\"roots\":{\"references\":[{\"attributes\":{\"above\":[{\"id\":\"1427\",\"type\":\"Title\"}],\"background_fill_color\":{\"value\":\"white\"},\"below\":[{\"id\":\"1410\",\"type\":\"DatetimeAxis\"},{\"id\":\"1426\",\"type\":\"Label\"}],\"border_fill_color\":{\"value\":\"white\"},\"left\":[{\"id\":\"1415\",\"type\":\"LinearAxis\"}],\"min_border_bottom\":60,\"min_border_left\":60,\"min_border_right\":60,\"min_border_top\":40,\"outline_line_color\":{\"value\":\"white\"},\"plot_height\":540,\"plot_width\":960,\"renderers\":[{\"id\":\"1410\",\"type\":\"DatetimeAxis\"},{\"id\":\"1414\",\"type\":\"Grid\"},{\"id\":\"1415\",\"type\":\"LinearAxis\"},{\"id\":\"1419\",\"type\":\"Grid\"},{\"id\":\"1426\",\"type\":\"Label\"},{\"id\":\"1427\",\"type\":\"Title\"},{\"id\":\"1455\",\"type\":\"Legend\"},{\"id\":\"1436\",\"type\":\"GlyphRenderer\"},{\"id\":\"1461\",\"type\":\"GlyphRenderer\"},{\"id\":\"1487\",\"type\":\"GlyphRenderer\"},{\"id\":\"1515\",\"type\":\"GlyphRenderer\"}],\"title\":{\"id\":\"1423\",\"type\":\"Title\"},\"toolbar\":{\"id\":\"1421\",\"type\":\"Toolbar\"},\"x_range\":{\"id\":\"1402\",\"type\":\"DataRange1d\"},\"x_scale\":{\"id\":\"1406\",\"type\":\"LinearScale\"},\"y_range\":{\"id\":\"1404\",\"type\":\"DataRange1d\"},\"y_scale\":{\"id\":\"1408\",\"type\":\"LinearScale\"}},\"id\":\"1401\",\"subtype\":\"Figure\",\"type\":\"Plot\"},{\"attributes\":{},\"id\":\"1408\",\"type\":\"LinearScale\"},{\"attributes\":{},\"id\":\"1441\",\"type\":\"DatetimeTickFormatter\"},{\"attributes\":{\"dimension\":1,\"grid_line_color\":{\"value\":null},\"plot\":{\"id\":\"1401\",\"subtype\":\"Figure\",\"type\":\"Plot\"},\"ticker\":{\"id\":\"1416\",\"type\":\"BasicTicker\"}},\"id\":\"1419\",\"type\":\"Grid\"},{\"attributes\":{},\"id\":\"1603\",\"type\":\"Selection\"},{\"attributes\":{},\"id\":\"1508\",\"type\":\"Selection\"},{\"attributes\":{\"active_drag\":null,\"active_inspect\":\"auto\",\"active_multi\":null,\"active_scroll\":\"auto\",\"active_tap\":\"auto\",\"logo\":null,\"tools\":[{\"id\":\"1420\",\"type\":\"SaveTool\"}]},\"id\":\"1421\",\"type\":\"Toolbar\"},{\"attributes\":{\"callback\":null},\"id\":\"1404\",\"type\":\"DataRange1d\"},{\"attributes\":{\"mantissas\":[1,2,5],\"max_interval\":500.0,\"num_minor_ticks\":0},\"id\":\"1443\",\"type\":\"AdaptiveTicker\"},{\"attributes\":{\"plot\":{\"id\":\"1401\",\"subtype\":\"Figure\",\"type\":\"Plot\"},\"text\":\"Optional 'color_column' argument for grouping by color.\",\"text_color\":{\"value\":\"#666666\"},\"text_font_size\":{\"value\":\"12pt\"}},\"id\":\"1427\",\"type\":\"Title\"},{\"attributes\":{},\"id\":\"1420\",\"type\":\"SaveTool\"},{\"attributes\":{},\"id\":\"1406\",\"type\":\"LinearScale\"},{\"attributes\":{\"label\":{\"value\":\"Grape\"},\"renderers\":[{\"id\":\"1487\",\"type\":\"GlyphRenderer\"}]},\"id\":\"1510\",\"type\":\"LegendItem\"},{\"attributes\":{\"months\":[0,6]},\"id\":\"1453\",\"type\":\"MonthsTicker\"},{\"attributes\":{\"fill_alpha\":{\"value\":0.1},\"fill_color\":{\"value\":\"#1f77b4\"},\"line_alpha\":{\"value\":0.1},\"line_color\":{\"value\":\"#1f77b4\"},\"size\":{\"field\":\"quantity\",\"units\":\"screen\"},\"x\":{\"field\":\"date\"},\"y\":{\"field\":\"unit_price\"}},\"id\":\"1460\",\"type\":\"Scatter\"},{\"attributes\":{\"base\":60,\"mantissas\":[1,2,5,10,15,20,30],\"max_interval\":1800000.0,\"min_interval\":1000.0,\"num_minor_ticks\":0},\"id\":\"1444\",\"type\":\"AdaptiveTicker\"},{\"attributes\":{\"fill_color\":{\"value\":\"#ff7f0e\"},\"line_color\":{\"value\":\"#ff7f0e\"},\"size\":{\"field\":\"quantity\",\"units\":\"screen\"},\"x\":{\"field\":\"date\"},\"y\":{\"field\":\"unit_price\"}},\"id\":\"1459\",\"type\":\"Scatter\"},{\"attributes\":{\"base\":24,\"mantissas\":[1,2,4,6,8,12],\"max_interval\":43200000.0,\"min_interval\":3600000.0,\"num_minor_ticks\":0},\"id\":\"1445\",\"type\":\"AdaptiveTicker\"},{\"attributes\":{\"data_source\":{\"id\":\"1457\",\"type\":\"ColumnDataSource\"},\"glyph\":{\"id\":\"1459\",\"type\":\"Scatter\"},\"hover_glyph\":null,\"muted_glyph\":null,\"nonselection_glyph\":{\"id\":\"1460\",\"type\":\"Scatter\"},\"selection_glyph\":null,\"view\":{\"id\":\"1462\",\"type\":\"CDSView\"}},\"id\":\"1461\",\"type\":\"GlyphRenderer\"},{\"attributes\":{\"days\":[1,2,3,4,5,6,7,8,9,10,11,12,13,14,15,16,17,18,19,20,21,22,23,24,25,26,27,28,29,30,31]},\"id\":\"1446\",\"type\":\"DaysTicker\"},{\"attributes\":{\"source\":{\"id\":\"1457\",\"type\":\"ColumnDataSource\"}},\"id\":\"1462\",\"type\":\"CDSView\"},{\"attributes\":{\"axis_label_text_color\":{\"value\":\"#666666\"},\"axis_label_text_font_size\":{\"value\":\"11pt\"},\"axis_label_text_font_style\":\"bold\",\"axis_line_color\":{\"value\":\"#C0C0C0\"},\"formatter\":{\"id\":\"1430\",\"type\":\"NumeralTickFormatter\"},\"major_label_text_color\":{\"value\":\"#898989\"},\"major_label_text_font_size\":{\"value\":\"10pt\"},\"major_tick_in\":0,\"major_tick_line_color\":{\"value\":\"#C0C0C0\"},\"major_tick_out\":4,\"minor_tick_line_color\":{\"value\":\"#C0C0C0\"},\"minor_tick_out\":1,\"plot\":{\"id\":\"1401\",\"subtype\":\"Figure\",\"type\":\"Plot\"},\"ticker\":{\"id\":\"1416\",\"type\":\"BasicTicker\"}},\"id\":\"1415\",\"type\":\"LinearAxis\"},{\"attributes\":{\"format\":\"0,0.[0]\"},\"id\":\"1430\",\"type\":\"NumeralTickFormatter\"},{\"attributes\":{\"days\":[1,4,7,10,13,16,19,22,25,28]},\"id\":\"1447\",\"type\":\"DaysTicker\"},{\"attributes\":{},\"id\":\"1480\",\"type\":\"Selection\"},{\"attributes\":{\"fill_alpha\":{\"value\":0.1},\"fill_color\":{\"value\":\"#1f77b4\"},\"line_alpha\":{\"value\":0.1},\"line_color\":{\"value\":\"#1f77b4\"},\"size\":{\"field\":\"quantity\",\"units\":\"screen\"},\"x\":{\"field\":\"date\"},\"y\":{\"field\":\"unit_price\"}},\"id\":\"1514\",\"type\":\"Scatter\"},{\"attributes\":{\"days\":[1,8,15,22]},\"id\":\"1448\",\"type\":\"DaysTicker\"},{\"attributes\":{},\"id\":\"1539\",\"type\":\"UnionRenderers\"},{\"attributes\":{},\"id\":\"1604\",\"type\":\"UnionRenderers\"},{\"attributes\":{},\"id\":\"1481\",\"type\":\"UnionRenderers\"},{\"attributes\":{\"days\":[1,15]},\"id\":\"1449\",\"type\":\"DaysTicker\"},{\"attributes\":{\"months\":[0,1,2,3,4,5,6,7,8,9,10,11]},\"id\":\"1450\",\"type\":\"MonthsTicker\"},{\"attributes\":{\"callback\":null,\"data\":{\"date\":{\"__ndarray__\":\"AACA0VjHdUIAAMDOD+J1QgAAQPba53VCAAAAvgDRdUIAAMCNPwJ2QgAAwHnM8nVCAAAALprldUIAAEDIR+V1QgAAAObm73VCAACAYb+ydUIAAIBI1fF1QgAAQDDIsXVCAAAAYxD+dUIAAAD5I811QgAAALKmCXZCAACAWxLPdUIAAACypgl2QgAAwDEZ/XVCAACAtzjUdUIAAED22ud1QgAAAMzG/HVCAADAyGL+dUIAAIAAIvx1QgAAQPyHy3VCAABA4mfYdUIAAMCnX/V1QgAAwO7cuHVCAAAAvzYDdkIAAIATX9l1QgAAAMzG/HVCAAAAOvSsdUIAAMAWw9d1QgAAAKOqq3VCAADAzg/idUIAAMDvEut1QgAAgG5PrHVCAADAAlDIdUIAAIAn0uh1QgAAgDRi4nVCAACAxf7/dUIAAIDEyM11QgAAQANr4XVCAACAJpy2dUIAAMD29QB2QgAAQLUKCHZCAABATFQJdkIAAEBZ5AJ2QgAAAHCg93VCAABAOOH5dUIAAMDhTL91QgAAAIrA6nVCAABAWeQCdkIAAIBcSAF2QgAAAH0w8XVCAACAT7gHdkIAAACKwOp1QgAAwCIdn3VCAABA4mfYdUIAAAAo7QF2QgAAwGw8+XVCAABAFqi+dUIAAEDhMaZ1QgAAAL4A0XVCAAAADZfcdUIAAEAKTvd1QgAAgOYBCXZCAADAZVnjdUIAAIAhJQV2QgAAgG+F3nVCAAAAsXDXdUIAAABpveF1QgAAwLO5vHVCAACAaKLIdUIAAADm5u91QgAAwD6p9nVCAACAveW3dUIAAABIuth1QgAAwM4P4nVCAABAWeQCdkIAAIAhJQV2QgAAANlW9nVCAADAJIkDdkIAAADSc+B1QgAAQNuEwnVCAABAUgHtdUIAAADF4+Z1QgAAAMpamHVCAABAk9HMdUIAAMAP4MF1QgAAQCtRAHZCAADAupzSdUIAAICK2wN2QgAAAJ39x3VCAACAadj6dUIAAIDfHvN1QgAAQOJn2HVCAADAJIkDdkIAAEA+jt11QgAAwPW/znVCAACAToLVdUIAAMADhvp1QgAAgDoPxnVCAACAXEgBdkIAAACypgl2QgAAwDEZ/XVCAADAhSa6dUIAAAATRMB1QgAAwD6p9nVCAABAIzi4dUIAAMAJM951QgAAgBNf2XVCAADAzdmvdUIAAADm5u91QgAAQOOdCnZCAAAAxK20dUIAAIBNTKN1QgAAgFQvuXVCAAAA2Vb2dUIAAADF4+Z1QgAAwERW2nVCAABAEPvadUIAAMCMCdB1QgAAgNKO+XVCAADAQyCodUIAAAB1F6l1QgAAQGZ0/HVCAABA4mfYdUIAAEC1Cgh2QgAAgDtF+HVCAAAAzMb8dUIAAIC+G+p1QgAAABtdCHZCAACA8SWedUIAAMCT7OV1QgAAAFwt6HVCAABA6BS8dUIAAEDCmgF2QgAAwGVZ43VCAACALX/MdUIAAADsk9N1QgAAwFIcBnZCAACADHzDdUIAAEDO9Mh1QgAAALKmCXZCAAAAJ7fPdUIAAMA2kK51QgAAwCo253VCAABAa+utdUIAAIAaQu91QgAAgJCI53VCAAAAhBMHdkIAAMCGXOx1QgAAgOYBCXZCAADAKjbndUIAAIDyW9B1QgAAwD6p9nVCAACAfUsKdkIAAECgYcZ1QgAAwGQjsXVCAABAwpoBdkIAAEDIR+V1QgAAgE1Mo3VCAADAD+DBdUIAAMBXk7d1QgAAANlW9nVCAABAWeQCdkIAAIDsrux1QgAAwMF/6HVCAACApPv2dUIAAADZVvZ1QgAAwMF/6HVCAACAxf7/dUIAAIDmAQl2QgAAQFiu0HVCAAAAT53udUIAAECM7rZ1QgAAwB2m7XVCAAAAQg31dUIAAEA44fl1QgAAwJPs5XVCAAAA8kC3dUIAAMB/edZ1QgAAQOlK7nVCAAAAVoAEdkIAAAAhCux1QgAAgCfS6HVCAACApPv2dUIAAEB/Xr11QgAAgPk+5nVCAAAA8kC3dUIAAABpveF1QgAAgFxIAXZCAABA4mfYdUIAAECuJ/J1QgAAAH0w8XVCAABAzyr7dUIAAMAw48p1QgAAAJBtznVCAAAAFHrydUIAAEAjOLh1QgAAwNS8xXVCAADAJIkDdkIAAICxi/B1QgAAwPyi5HVCAABAHsEGdkIAAAC4U+11QgAAgHwV2HVCAABAjO62dUIAAADMxvx1QgAAQA/FqHVCAACAb4XedUIAAMC70gR2QgAAQB2L1HVCAAAAaIevdUIAAEDV1951QgAAQBD72nVCAAAAhBMHdkIAAIBp2Pp1QgAAACe3z3VCAAAAg93UdUIAAIBB8tt1QgAAwLTv7nVCAABAZnT8dUIAAMBsPPl1Qg==\",\"dtype\":\"float64\",\"shape\":[224]},\"fruit\":[\"Apple\",\"Apple\",\"Apple\",\"Apple\",\"Apple\",\"Apple\",\"Apple\",\"Apple\",\"Apple\",\"Apple\",\"Apple\",\"Apple\",\"Apple\",\"Apple\",\"Apple\",\"Apple\",\"Apple\",\"Apple\",\"Apple\",\"Apple\",\"Apple\",\"Apple\",\"Apple\",\"Apple\",\"Apple\",\"Apple\",\"Apple\",\"Apple\",\"Apple\",\"Apple\",\"Apple\",\"Apple\",\"Apple\",\"Apple\",\"Apple\",\"Apple\",\"Apple\",\"Apple\",\"Apple\",\"Apple\",\"Apple\",\"Apple\",\"Apple\",\"Apple\",\"Apple\",\"Apple\",\"Apple\",\"Apple\",\"Apple\",\"Apple\",\"Apple\",\"Apple\",\"Apple\",\"Apple\",\"Apple\",\"Apple\",\"Apple\",\"Apple\",\"Apple\",\"Apple\",\"Apple\",\"Apple\",\"Apple\",\"Apple\",\"Apple\",\"Apple\",\"Apple\",\"Apple\",\"Apple\",\"Apple\",\"Apple\",\"Apple\",\"Apple\",\"Apple\",\"Apple\",\"Apple\",\"Apple\",\"Apple\",\"Apple\",\"Apple\",\"Apple\",\"Apple\",\"Apple\",\"Apple\",\"Apple\",\"Apple\",\"Apple\",\"Apple\",\"Apple\",\"Apple\",\"Apple\",\"Apple\",\"Apple\",\"Apple\",\"Apple\",\"Apple\",\"Apple\",\"Apple\",\"Apple\",\"Apple\",\"Apple\",\"Apple\",\"Apple\",\"Apple\",\"Apple\",\"Apple\",\"Apple\",\"Apple\",\"Apple\",\"Apple\",\"Apple\",\"Apple\",\"Apple\",\"Apple\",\"Apple\",\"Apple\",\"Apple\",\"Apple\",\"Apple\",\"Apple\",\"Apple\",\"Apple\",\"Apple\",\"Apple\",\"Apple\",\"Apple\",\"Apple\",\"Apple\",\"Apple\",\"Apple\",\"Apple\",\"Apple\",\"Apple\",\"Apple\",\"Apple\",\"Apple\",\"Apple\",\"Apple\",\"Apple\",\"Apple\",\"Apple\",\"Apple\",\"Apple\",\"Apple\",\"Apple\",\"Apple\",\"Apple\",\"Apple\",\"Apple\",\"Apple\",\"Apple\",\"Apple\",\"Apple\",\"Apple\",\"Apple\",\"Apple\",\"Apple\",\"Apple\",\"Apple\",\"Apple\",\"Apple\",\"Apple\",\"Apple\",\"Apple\",\"Apple\",\"Apple\",\"Apple\",\"Apple\",\"Apple\",\"Apple\",\"Apple\",\"Apple\",\"Apple\",\"Apple\",\"Apple\",\"Apple\",\"Apple\",\"Apple\",\"Apple\",\"Apple\",\"Apple\",\"Apple\",\"Apple\",\"Apple\",\"Apple\",\"Apple\",\"Apple\",\"Apple\",\"Apple\",\"Apple\",\"Apple\",\"Apple\",\"Apple\",\"Apple\",\"Apple\",\"Apple\",\"Apple\",\"Apple\",\"Apple\",\"Apple\",\"Apple\",\"Apple\",\"Apple\",\"Apple\",\"Apple\",\"Apple\",\"Apple\",\"Apple\",\"Apple\",\"Apple\",\"Apple\",\"Apple\",\"Apple\",\"Apple\",\"Apple\",\"Apple\",\"Apple\",\"Apple\",\"Apple\",\"Apple\",\"Apple\",\"Apple\",\"Apple\",\"Apple\"],\"index\":[5,7,8,11,19,21,23,30,32,37,43,46,53,59,63,69,82,86,102,107,108,112,114,116,145,148,150,157,162,168,175,176,177,180,182,183,185,189,191,197,200,202,204,208,212,215,223,224,226,231,234,237,258,264,267,268,271,272,275,281,283,290,298,300,303,305,311,321,324,325,329,331,333,335,336,338,345,347,355,356,358,361,385,388,391,393,408,409,410,416,419,424,428,431,435,436,438,444,446,448,449,456,458,459,462,468,480,485,498,502,504,526,535,539,542,543,545,547,548,549,550,551,553,554,557,559,560,567,571,575,579,586,589,595,597,599,601,605,607,609,612,613,622,631,633,635,637,638,643,646,653,659,668,674,677,680,681,682,685,691,693,696,703,707,710,720,725,726,727,728,731,732,735,737,738,741,745,746,758,770,778,785,792,796,798,802,804,805,807,810,820,822,826,827,834,837,839,841,842,849,852,857,859,867,870,875,878,883,884,890,893,901,907,914,929,934,943,956,970,978,982,983,988,993],\"quantity\":[2,4,4,2,1,3,5,3,2,1,4,2,2,5,3,2,2,2,3,3,4,2,3,1,3,3,3,4,1,4,1,2,3,4,2,4,3,2,5,2,2,4,2,4,3,2,5,3,4,4,3,2,5,4,5,2,2,6,1,1,3,2,2,2,5,1,4,4,2,4,3,4,3,1,1,3,5,4,3,2,1,3,3,2,3,3,2,6,1,2,3,1,4,4,3,2,2,2,1,3,4,1,1,2,2,3,2,3,3,1,3,2,4,1,1,2,3,2,2,3,3,2,4,2,5,6,2,5,4,2,3,2,3,2,3,2,5,2,1,3,1,4,5,2,2,3,3,3,1,3,1,9,3,2,2,2,2,1,3,2,3,2,4,2,1,2,3,2,3,3,4,4,2,3,1,5,2,1,3,2,3,2,2,3,2,1,3,3,3,1,1,2,5,3,2,2,2,3,3,4,3,3,2,2,1,1,2,2,5,3,3,3,2,2,1,2,3,4,4,2,3,3,2,4],\"unit_price\":{\"__ndarray__\":\"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\",\"dtype\":\"float64\",\"shape\":[224]}},\"name\":\"Series:Apple\",\"selected\":{\"id\":\"1480\",\"type\":\"Selection\"},\"selection_policy\":{\"id\":\"1481\",\"type\":\"UnionRenderers\"}},\"id\":\"1432\",\"type\":\"ColumnDataSource\"},{\"attributes\":{\"fill_color\":{\"value\":\"#d62728\"},\"line_color\":{\"value\":\"#d62728\"},\"size\":{\"field\":\"quantity\",\"units\":\"screen\"},\"x\":{\"field\":\"date\"},\"y\":{\"field\":\"unit_price\"}},\"id\":\"1513\",\"type\":\"Scatter\"},{\"attributes\":{\"months\":[0,2,4,6,8,10]},\"id\":\"1451\",\"type\":\"MonthsTicker\"},{\"attributes\":{\"callback\":null,\"data\":{\"date\":{\"__ndarray__\":\"AACAXEgBdkIAAABpveF1QgAAgLGL8HVCAACAJ9LodUIAAMCnX/V1QgAAgLBVvnVCAACAT7gHdkIAAEBFcfN1QgAAwM4P4nVCAABAwpoBdkIAAEDPKvt1QgAAgH1LCnZCAAAA7JPTdUIAAIDYO911QgAAQDerx3VCAACAadj6dUIAAEAPxah1QgAAQEVx83VCAACAQfLbdUIAAMCGXOx1QgAAQPAtBHZCAABA450KdkIAAMBkI7F1QgAAAPN26XVCAAAABrTGdUIAAAAUevJ1QgAAQCRu6nVCAADAk+zldUIAAICJpdF1QgAAQF5btHVCAACAnRjhdUIAAADezad1QgAAwICvCHZCAACAgsK7dUIAAIANsvV1QgAAQD6O3XVCAACA+Ai0dUIAAABOZ7x1QgAAwBAW9HVCAAAAkaMAdkIAAID4CLR1QgAAgFVl63VCAADAZVnjdUIAAMCMCdB1QgAAACEK7HVCAAAApODddUIAAIBPuAd2QgAAAOyT03VCAADAf3nWdUIAAIB8Fdh1QgAAQPAtBHZCAADAms/7dUIAAEDIR+V1QgAAQDH+43VCAABAs56jdUIAAAAumuV1QgAAAJBtznVCAADA6WUHdkIAAAB9MPF1QgAAAIQTB3ZCAADAjAnQdUIAAMBLOfB1QgAAQMFkz3VCAAAAVoAEdkIAAMAkiQN2QgAAACjtAXZCAADAHabtdUIAAACQbc51QgAAgEefv3VCAACAynWxdUIAAADtyQV2QgAAwCSJA3ZCAAAAAAfjdUIAAIAaQu91QgAAgLYConVCAADAwX/odUIAAACXUOR1QgAAgBpC73VCAABAtNTVdUIAAMC07+51QgAAQF5btHVCAAAAW/e1dUIAAMCnX/V1QgAAgMur43VCAADA1fL3dUIAAMDigvF1QgAAwJrP+3VCAABAoGHGdUIAAAD6Wf91QgAAAH0w8XVCAADA/KLkdUIAAAA0R8l1QgAAAN7Np3VCAADAbDz5dUIAAIBcSAF2QgAAQCRu6nVCAABAtNTVdUIAAACd/cd1QgAAQMKaAXZCAAAA3wPadUIAAEC1Cgh2QgAAAPN26XVCAADAMRn9dUIAAICdGOF1QgAAAEeEpnVCAABAN6vHdUIAAADZVvZ1QgAAwEoDvnVCAABAN6vHdUIAAIBB8tt1QgAAwIwJ0HVCAAAAB+r4dUIAAAAtZLN1QgAAwPyi5HVCAADAzg/idUIAAEAWqL51QgAAAFQUoHVCAAAA+SPNdUIAAMBEVtp1QgAAAPpZ/3VCAADA7xLrdUIAAED8h8t1QgAAgLhuBnZCAAAAcKD3dUIAAIC4bgZ2QgAAQAkYxXVCAAAAvgDRdUIAAEBeW7R1QgAAQExUCXZCAACAxMjNdUIAAEDcuvR1QgAAgOyu7HVCAADA7xLrdUIAAIBvhd51QgAAwD6p9nVCAAAAfTDxdUIAAEAewQZ2QgAAALKmCXZCAACAACL8dUIAAACKwOp1QgAAQB7BBnZCAADAupzSdUIAAIDe6MB1QgAAgPgItHVCAADA/KLkdUIAAECGQdN1QgAAABon1nVCAACAuG4GdkIAAEBMVAl2QgAAAPN26XVCAACAsYvwdUIAAMCNPwJ2QgAAABtdCHZCAADAZCOxdUIAAEAdi9R1QgAAQPAtBHZCAACAISUFdkIAAEByzsN1QgAAgKPFxHVCAADA9b/OdUIAAADzdul1QgAAgC1/zHVCAABAhQuhdUIAAEA+jt11QgAAAHCg93VCAADAeczydUIAAACEEwd2QgAAgC61/nVCAABAHsEGdkIAAIDRWMd1QgAAgNFYx3VCAACAT7gHdkIAAEBfkeZ1QgAAQNy69HVCAABAlAf/dUIAAIBvhd51QgAAAPkjzXVCAACAT7gHdkIAAIA0YuJ1QgAAQHLOw3VCAADAI1PRdUIAAIANsvV1QgAAALFw13VCAACAtzjUdUIAAIC95bd1QgAAgCElBXZCAACAE1/ZdUIAAECUB/91QgAAAFaABHZCAABAMf7jdUIAAMBYyel1QgAAwAOG+nVCAADAwEm2dUIAAMDigvF1QgAAgC1/zHVCAACAACL8dUIAAECuJ/J1QgAAwFeTt3VCAAAAnf3HdUIAAIAGz991QgAAgOXL1nVCAADAjAnQdUIAAMDpZQd2QgAAgJX/mHVCAADAawbHdUIAAEAPxah1QgAAwDfG4HVCAABACRjFdUIAAMAWw9d1QgAAgFxIAXZCAACAuG4GdkIAAEDcuvR1QgAAADsq33VCAACAxMjNdUIAAMC70gR2QgAAgE+4B3ZCAADAhlzsdUIAAAAo7QF2QgAAwNXy93VCAADAEBb0dUIAAMBeds11QgAAwBf5CXZCAACA8lvQdUIAAECHdwV2QgAAwOllB3ZCAACAljXLdUIAAEDPKvt1QgAAQCtRAHZCAADAms/7dUIAAAB8+r51QgAAgG5PrHVCAAAAkG3OdUIAAEBMVAl2QgAAgLhuBnZCAACA8lvQdUIAAMBsPPl1QgAAAGLay3VCAADAyGL+dUIAAAA7Kt91QgAAQB7BBnZCAADA4oLxdUIAAECgYcZ1QgAAgC61/nVCAAAAOvSsdUIAAIC4bgZ2QgAAwICvCHZCAACAIO/SdUIAAMDoL9V1QgAAQLUKCHZCAAAAq8PzdUIAAEAkbup1QgAAQKGX+HVCAAAAB+r4dUIAAEDcuvR1QgAAgNg73XVCAACA+T7mdUIAAIDfHvN1QgAAQMKaAXZCAACA2DvddUIAAIDEyM11QgAAAJ4z+nVCAABA1dfedUIAAAAnt891QgAAABtdCHZCAABAu7frdUIAAMD1v851QgAAQId3BXZC\",\"dtype\":\"float64\",\"shape\":[267]},\"fruit\":[\"Orange\",\"Orange\",\"Orange\",\"Orange\",\"Orange\",\"Orange\",\"Orange\",\"Orange\",\"Orange\",\"Orange\",\"Orange\",\"Orange\",\"Orange\",\"Orange\",\"Orange\",\"Orange\",\"Orange\",\"Orange\",\"Orange\",\"Orange\",\"Orange\",\"Orange\",\"Orange\",\"Orange\",\"Orange\",\"Orange\",\"Orange\",\"Orange\",\"Orange\",\"Orange\",\"Orange\",\"Orange\",\"Orange\",\"Orange\",\"Orange\",\"Orange\",\"Orange\",\"Orange\",\"Orange\",\"Orange\",\"Orange\",\"Orange\",\"Orange\",\"Orange\",\"Orange\",\"Orange\",\"Orange\",\"Orange\",\"Orange\",\"Orange\",\"Orange\",\"Orange\",\"Orange\",\"Orange\",\"Orange\",\"Orange\",\"Orange\",\"Orange\",\"Orange\",\"Orange\",\"Orange\",\"Orange\",\"Orange\",\"Orange\",\"Orange\",\"Orange\",\"Orange\",\"Orange\",\"Orange\",\"Orange\",\"Orange\",\"Orange\",\"Orange\",\"Orange\",\"Orange\",\"Orange\",\"Orange\",\"Orange\",\"Orange\",\"Orange\",\"Orange\",\"Orange\",\"Orange\",\"Orange\",\"Orange\",\"Orange\",\"Orange\",\"Orange\",\"Orange\",\"Orange\",\"Orange\",\"Orange\",\"Orange\",\"Orange\",\"Orange\",\"Orange\",\"Orange\",\"Orange\",\"Orange\",\"Orange\",\"Orange\",\"Orange\",\"Orange\",\"Orange\",\"Orange\",\"Orange\",\"Orange\",\"Orange\",\"Orange\",\"Orange\",\"Orange\",\"Orange\",\"Orange\",\"Orange\",\"Orange\",\"Orange\",\"Orange\",\"Orange\",\"Orange\",\"Orange\",\"Orange\",\"Orange\",\"Orange\",\"Orange\",\"Orange\",\"Orange\",\"Orange\",\"Orange\",\"Orange\",\"Orange\",\"Orange\",\"Orange\",\"Orange\",\"Orange\",\"Orange\",\"Orange\",\"Orange\",\"Orange\",\"Orange\",\"Orange\",\"Orange\",\"Orange\",\"Orange\",\"Orange\",\"Orange\",\"Orange\",\"Orange\",\"Orange\",\"Orange\",\"Orange\",\"Orange\",\"Orange\",\"Orange\",\"Orange\",\"Orange\",\"Orange\",\"Orange\",\"Orange\",\"Orange\",\"Orange\",\"Orange\",\"Orange\",\"Orange\",\"Orange\",\"Orange\",\"Orange\",\"Orange\",\"Orange\",\"Orange\",\"Orange\",\"Orange\",\"Orange\",\"Orange\",\"Orange\",\"Orange\",\"Orange\",\"Orange\",\"Orange\",\"Orange\",\"Orange\",\"Orange\",\"Orange\",\"Orange\",\"Orange\",\"Orange\",\"Orange\",\"Orange\",\"Orange\",\"Orange\",\"Orange\",\"Orange\",\"Orange\",\"Orange\",\"Orange\",\"Orange\",\"Orange\",\"Orange\",\"Orange\",\"Orange\",\"Orange\",\"Orange\",\"Orange\",\"Orange\",\"Orange\",\"Orange\",\"Orange\",\"Orange\",\"Orange\",\"Orange\",\"Orange\",\"Orange\",\"Orange\",\"Orange\",\"Orange\",\"Orange\",\"Orange\",\"Orange\",\"Orange\",\"Orange\",\"Orange\",\"Orange\",\"Orange\",\"Orange\",\"Orange\",\"Orange\",\"Orange\",\"Orange\",\"Orange\",\"Orange\",\"Orange\",\"Orange\",\"Orange\",\"Orange\",\"Orange\",\"Orange\",\"Orange\",\"Orange\",\"Orange\",\"Orange\",\"Orange\",\"Orange\",\"Orange\",\"Orange\",\"Orange\",\"Orange\",\"Orange\",\"Orange\",\"Orange\",\"Orange\",\"Orange\",\"Orange\",\"Orange\",\"Orange\",\"Orange\",\"Orange\",\"Orange\",\"Orange\",\"Orange\",\"Orange\",\"Orange\",\"Orange\",\"Orange\",\"Orange\",\"Orange\",\"Orange\",\"Orange\",\"Orange\"],\"index\":[12,14,15,17,20,22,25,26,31,33,34,38,45,49,50,51,56,57,64,66,67,75,76,77,80,81,88,93,98,99,100,101,104,105,106,119,121,124,125,130,134,139,141,143,146,153,158,160,165,169,170,172,173,193,194,205,211,213,214,220,227,228,235,240,243,248,251,255,256,265,273,278,282,284,288,295,296,297,299,302,304,309,312,313,314,317,319,323,326,327,340,341,342,344,346,352,354,362,363,365,371,379,392,394,397,399,400,403,404,418,423,427,437,439,443,445,452,455,461,464,469,483,484,489,490,492,493,494,495,496,497,505,506,507,510,513,514,516,520,524,530,532,540,541,555,556,563,564,565,569,573,584,585,588,592,603,610,618,621,626,629,634,636,644,645,647,651,652,655,660,662,663,667,671,676,678,684,690,692,695,697,699,701,705,709,714,716,722,723,724,729,736,740,742,743,744,749,751,754,759,762,766,768,769,773,777,781,782,786,789,790,791,793,800,806,808,809,812,813,817,819,823,828,832,833,835,838,840,846,850,855,856,860,868,869,874,880,881,888,892,895,896,897,908,916,918,919,923,930,932,933,938,941,945,946,951,955,962,976,977,979,987,989,991,995,997,998],\"quantity\":[5,2,4,4,6,2,4,2,4,2,2,2,2,6,4,7,5,2,2,6,3,4,4,4,3,2,5,4,4,5,2,3,3,2,5,1,3,1,1,3,2,3,5,3,2,5,6,3,5,3,1,2,5,7,2,3,4,3,2,5,4,2,2,6,2,1,2,2,2,2,4,2,2,4,3,3,3,2,4,4,5,6,2,3,3,1,3,1,2,1,3,3,3,1,5,4,2,3,5,3,3,1,5,2,5,3,1,6,1,3,3,2,4,3,2,3,4,5,5,7,3,2,2,3,3,2,3,3,4,2,3,4,4,3,3,2,4,2,4,3,4,5,3,4,5,2,4,4,4,2,2,4,3,4,2,4,3,2,4,2,2,5,2,2,6,6,1,4,2,4,4,4,1,5,4,3,3,3,2,4,4,2,3,1,4,2,3,4,4,6,5,1,4,2,4,2,4,3,4,4,4,4,2,2,3,2,2,3,7,4,4,5,3,3,1,1,3,3,3,2,4,4,4,2,4,2,2,2,2,2,4,4,5,3,4,6,3,1,3,2,3,4,4,3,4,3,3,2,3,3,4,5,5,3,5,1,2,3,3,6,3,3,5,2,5,2,1],\"unit_price\":{\"__ndarray__\":\"nC+q5uPA4D+J5KDrIO3iPwb+B/Wu59s/okNwVggz4T8K5t6I137eP76pW+uUzt0/yb3u+HhY4j+qQOUblL3hP0I6qeeKmd8/dEmnvMgz3z8jXr0QDCPjP4K54dm98OA/hFl4T6JH2z/1Ckko0+XdPzqgwPrZF+A/KqScobHC4T/3F4j3STneP6jg3FNMH+A/2pOL4tYo3T9TpT8tk2bfPx6nDAIws94/F94l/LCJ2j+HFdZbH4DhP3SpYqcpXN0/MZegLI0L4D/MgKcTVmnhP96l2vjcEt0/eKYpicuh3T+s/ba/FUrbP5BWjIsfUNs/GiJMyQvT3z9FJDRDKu/hP6ha53QnO+A/1dcHmxZL2z869kjDNb3gP4c9jtoFfeA//L1qy8uc4D80++XmOZDiP+apzwz0T98/yn8IVKR74D/Z4xWhKFzcPybhqj8M7d0/yKnFohxa4T+Vk39+TS3hP/vn81DZkd8/mN0vY9aW4D84QdO50YngP8NgN+iCduA/7nFRVSCg4T/ECUZAaKngP9NMJNW25N4/hW91qV5L4D/MrDkisn3bPzKT3n99/94/9ILvX7wy4D8wnre3qQbhP16yNuySYeA/d751Rscs2j+IKKfOhr/gP1eCNPMEMN0/AV49WI9r4T9TvrKGJT3jP6BJhU4yR+E/LaJDmOdl4D9+QkV5Pw3ePzkLyvgQOtw/eM1mi0Rd3T/Ej6bJhMTfPynoPzmTw9Y/Y/mhW5i54T/HO5r0u7TdPwc2+1b+IeE/mA/9VDoZ3D+iQfRJ/9ffP2FiZPXzzt8/XXwiXEM54T9iUlMF2zzhP2fUv4/oDts/wY3iYSBX3j/a//UT2fTYP00iaZo/LuI/Fidgk7Dm4D9xIBP28lHhPzl6KjZH3t8/DCA05bVm4j9EiTf8Th7bP5lB6nmSYt8/JGjPfggH4D/lnMELROLgP9vk5wD3HOI/fYXYUpxo3T8iPWRJ1yHgP8Edafio6eE/TfJENcDE3j/nULjMCWvePxzbILyso90/b1AixrKB4D+2TefVUMXiP+ZBVqfHQN4/1OTiS0oX4D9qeAd6HFzaPz9irz/rx9o/slq3H/9/4D9D4wG+IhjkPxSqlNAc3t0//gZDSmGV4D/CMN9vOzbgP0AjRlHaJuE/m7Y2IRiJ3j/wKLlxK9TePxFrZAvc694/ECBrL5Uc4j+phudNOg3gPzTHClNy8ds/9mGYoE3H3z9LvmkNlnvgPzSA/oG+zuM/h35KzLkc2j/i8ppMMufgP9gXnXhovN0/JnIuNSew3T9D/+D7jI/fP3sgOackL+Q/kbki42Pp3j/I5Y/bJvvgP8DEF3UsZ9s/oNN1dEOT4j8QoT4Fz4rgPwNzrhnL+ts/F0LY23iq3T+f1UoVaWrgP/gKMtSinuA/NEfYwZE94T9sMNNONA3gP6gjSQAzmOA/ogl7qNEW3z/qC1ITsX3cP5pDvse2JuA/Vbwa2Xbg4D8lpb631wPiP38MXioOH+E/S3ZsR7po3j/VIw66RezgP37SccD+GuE/3+WLbdKg3D/bQf/KylzgPxojwz1yfeA/wtWdNzd34D9EZnUHUUvaP5ilzQxh7uA/rHRzDOMj4D/cZ+qZSNDhP+jetUkC590/cJKQSRTj4D8UEmqhTY/dP0JcPHa5UOE/OxhVkX3h2D/ifgq5qnHgPxewrBOEz+A/v0z1kBke3j9XdqoN01LhP0iu54npieE/lwf1x5hC4D8vt9wgs4fgP+hBpTbNLt4/SDMfOLq54D/DY+hDvU/iPyYs6JzA2t8/WvuiV0cC2z/ij7wS+4ThP8aGUJFsUOM/nC7FqlsL3D8S8TXnb0rjP2dH1Abwbd0/gGPndo8A2T+j2HYvo5DhPwxXM7NsAt4/4FUpW0NW4D/ipu5KpUHgP4CjxQ/dh90/k0Gsy5Q13T/QunDp8QbhP0gqEoqzS+A/rvzA0LXO4z/A8HQUWNTgP6zbKVURgNw/+OgfidWb3T8pgFIo+H7iP7bPKVByAd8/PFMqzp0U4T/rKV622wDgP1ydl851ieA/zFxtnrH24T8BLfz1WcXfP2bIlyLUE+A/sF7C9hvr3D+Pk506rjngPw2QBh11xeE/4p7K2E/e4T+OF+MvBCbhP+5QGPwhzOA/do+pl4eQ4D9kqUT/p6PcPw+vo2BCjNo/vbNW/wwd4j+nhO5oY3LgPxB0Zt7SR+A/T40PzzPq4D/It2X3RFbdP/NdVYpsCNs/ygkxuFga3D//BmDk0hLiPzX/r1cs/9s/iGyukMXb4T8/6vayNRncP55cIwpCTOI/Nk/vZ+/G4D+tdVAa8qngP8QjKtVWL9w/LI04LOf54D8eVSKLYmPhP68q8jEgydk/lTSV/zbD4D8wljviIuPeP+i1Kwa00uE/llo4Wv+D3D/uQ91Unr7cP3wnJqTOAeE/R+VZtFXD3j8D9riH+SDfPybhPbyBNuE/IvXDSG7e1j/arzJMq9ndP+AIQ1qVLNs/ku6APuAe3z/jbiz39kzhP49P6imkGeE/axNJsiwi4T/aMogSVg7gPytCnoFn4d8/bhEIHW664D+blqbBBtndP3ccUOcnFeA/C5DJstWV3T9ixZzB1dnbP1p2yLI62d8/u2gn6mdy3z86D8eq9QHiPzfKI9TREeA/BU5AwTQ64D9DUJpk8/7fP1wk1O6tEOA/NXSB4ule4z+p0enbQAngP8IH6ayCH98/W3XksIEq4T/m3Cj5wKnhP/0b/q8aJOI/hyY4GY0Y4T96JsG+pYDhPwltB/fIGOM/bY++0eQX4T9/P3D9tWfiPyi8Y3D5ZOA/1QIKRsCU4T9VGVhUYh/gPxSSZJpfPuQ/\",\"dtype\":\"float64\",\"shape\":[267]}},\"name\":\"Series:Orange\",\"selected\":{\"id\":\"1603\",\"type\":\"Selection\"},\"selection_policy\":{\"id\":\"1604\",\"type\":\"UnionRenderers\"}},\"id\":\"1511\",\"type\":\"ColumnDataSource\"},{\"attributes\":{\"months\":[0,4,8]},\"id\":\"1452\",\"type\":\"MonthsTicker\"},{\"attributes\":{\"callback\":null},\"id\":\"1402\",\"type\":\"DataRange1d\"},{\"attributes\":{},\"id\":\"1454\",\"type\":\"YearsTicker\"},{\"attributes\":{\"data_source\":{\"id\":\"1511\",\"type\":\"ColumnDataSource\"},\"glyph\":{\"id\":\"1513\",\"type\":\"Scatter\"},\"hover_glyph\":null,\"muted_glyph\":null,\"nonselection_glyph\":{\"id\":\"1514\",\"type\":\"Scatter\"},\"selection_glyph\":null,\"view\":{\"id\":\"1516\",\"type\":\"CDSView\"}},\"id\":\"1515\",\"type\":\"GlyphRenderer\"},{\"attributes\":{\"fill_alpha\":{\"value\":0.1},\"fill_color\":{\"value\":\"#1f77b4\"},\"line_alpha\":{\"value\":0.1},\"line_color\":{\"value\":\"#1f77b4\"},\"size\":{\"field\":\"quantity\",\"units\":\"screen\"},\"x\":{\"field\":\"date\"},\"y\":{\"field\":\"unit_price\"}},\"id\":\"1435\",\"type\":\"Scatter\"},{\"attributes\":{\"items\":[{\"id\":\"1456\",\"type\":\"LegendItem\"},{\"id\":\"1482\",\"type\":\"LegendItem\"},{\"id\":\"1510\",\"type\":\"LegendItem\"},{\"id\":\"1540\",\"type\":\"LegendItem\"}],\"location\":\"top_left\",\"orientation\":\"horizontal\",\"plot\":{\"id\":\"1401\",\"subtype\":\"Figure\",\"type\":\"Plot\"}},\"id\":\"1455\",\"type\":\"Legend\"},{\"attributes\":{\"fill_alpha\":{\"value\":0.1},\"fill_color\":{\"value\":\"#1f77b4\"},\"line_alpha\":{\"value\":0.1},\"line_color\":{\"value\":\"#1f77b4\"},\"size\":{\"field\":\"quantity\",\"units\":\"screen\"},\"x\":{\"field\":\"date\"},\"y\":{\"field\":\"unit_price\"}},\"id\":\"1486\",\"type\":\"Scatter\"},{\"attributes\":{\"source\":{\"id\":\"1511\",\"type\":\"ColumnDataSource\"}},\"id\":\"1516\",\"type\":\"CDSView\"},{\"attributes\":{},\"id\":\"1509\",\"type\":\"UnionRenderers\"},{\"attributes\":{\"label\":{\"value\":\"Apple\"},\"renderers\":[{\"id\":\"1436\",\"type\":\"GlyphRenderer\"}]},\"id\":\"1456\",\"type\":\"LegendItem\"},{\"attributes\":{\"callback\":null,\"data\":{\"date\":{\"__ndarray__\":\"AAAAq8PzdUIAAABvasV1QgAAQNuEwnVCAAAAvzYDdkIAAIBi9eR1QgAAwMhi/nVCAADAD+DBdUIAAABB18J1QgAAgN8e83VCAAAAuFPtdUIAAABPne51QgAAwM3Zr3VCAADAHHC7dUIAAMA2kK51QgAAQHmx2XVCAAAAxePmdUIAAIC+G+p1QgAAgDRi4nVCAAAAzMb8dUIAAEAQ+9p1QgAAQId3BXZCAACABZmtdUIAAIDsrux1QgAAgNg73XVCAACAQLypdUIAAICD+O11QgAAAL82A3ZCAACAO0X4dUIAAICQiOd1QgAAQNuEwnVCAABARDvBdUIAAIDSjvl1QgAAQGwh4HVCAAAAXC3odUIAAACqjcF1QgAAgLc41HVCAABA3Lr0dUIAAABB18J1QgAAgOyu7HVCAAAA7ckFdkIAAIBuT6x1QgAAwERW2nVCAAAAhBMHdkIAAMAqNud1QgAAAFaABHZCAAAAvzYDdkIAAICPUrV1QgAAwKdf9XVCAACAfBXYdUIAAADLkMp1QgAAgKT79nVCAABArfG/dUIAAMDN2a91QgAAgLGL8HVCAADA4oLxdUIAAEDCmgF2QgAAQFnkAnZCAACAdmj0dUIAAMD7bLJ1QgAAgPORAnZCAAAAzMb8dUIAAMCfRq11QgAAAMXj5nVCAAAAVoAEdkIAAIA0YuJ1QgAAgMTIzXVCAACAYb+ydUIAAIAzLLB1QgAAgFxIAXZCAADA4oLxdUIAAEADa+F1QgAAgMX+/3VCAAAAxePmdUIAAEAkbup1QgAAQK4n8nVCAACAitsDdkIAAADYIMR1QgAAQICU73VCAADAAlDIdUIAAEDPKvt1QgAAgBpC73VCAACAsYvwdUIAAIDF/v91QgAAQD1Yq3VCAAAANEfJdUIAAED9vf11QgAAgE6C1XVCAABAHYvUdUIAAIC4bgZ2QgAAwPW/znVCAACALrX+dUIAAEBfkeZ1QgAAwJrP+3VCAADAcuncdUIAAMBfrP91QgAAgMTIzXVCAACAdmj0dUIAAAA0R8l1QgAAAFaABHZCAABA4mfYdUIAAMC70gR2QgAAgI9StXVCAAAAQg31dUIAAABB18J1QgAAwHnM8nVCAABArifydUIAAIAaQu91QgAAQM70yHVCAADAzg/idUIAAIB9Swp2QgAAQD6O3XVCAACAfUsKdkIAAMDUvMV1QgAAwHnM8nVCAACAfUsKdkIAAMD8ouR1QgAAQId3BXZCAABAEPvadUIAAMCZmcl1QgAAAFaABHZCAAAAcKD3dUIAAAAumuV1QgAAgJCI53VCAADAUhwGdkIAAMAqNud1QgAAwPb1AHZCAACAGkLvdUIAAMD1v851QgAAgEjV8XVCAACAACL8dUIAAMCMCdB1QgAAQICU73VCAAAAfTDxdUIAAECHdwV2QgAAQLu363VCAACAGkLvdUIAAAAbXQh2QgAAgG+F3nVCAABA/b39dUIAAEBFcfN1QgAAQNXX3nVCAACABs/fdUIAAEAx/uN1QgAAwK0M2XVCAAAA5ubvdUIAAADLkMp1QgAAwO8S63VCAABAcwT2dUIAAEBSAe11QgAAAHZN23VCAAAA83bpdUIAAMCL0511QgAAQGZ0/HVCAAAAIQrsdUIAAMDIYv51QgAAwCkAtXVCAAAAVoAEdkIAAIDmAQl2QgAAwPb1AHZCAACAitsDdkIAAABjEP51QgAAgL4b6nVCAACAitsDdkIAAMBy6dx1QgAAAJdQ5HVCAACAfUsKdkIAAMCtDNl1QgAAgL3lt3VCAADAyGL+dUIAAEAewQZ2QgAAQKBhxnVCAADACP2rdUIAAMB/edZ1QgAAQEVx83VCAADAms/7dUIAAIBcSAF2QgAAQD6O3XVCAACA5gEJdkIAAEDwLQR2QgAAwCSJA3ZCAAAAFHrydUIAAADLkMp1QgAAAN8D2nVCAADAZVnjdUIAAICD+O11QgAAAL82A3ZCAAAAFHrydUIAAMBxs6p1QgAAgB+5oHVCAADAupzSdUIAAIDfHvN1QgAAQB2L1HVCAACAiaXRdUIAAIBHn791QgAAAIQTB3ZCAAAAVUrSdUIAAICQiOd1QgAAQEVx83VCAAAAFHrydUIAAIDKdbF1QgAAgGL15HVCAAAAkG3OdUIAAMB4lsB1QgAAQPAtBHZCAADAUebTdUIAAECznqN1QgAAwIZc7HVCAADAMRn9dUIAAMD1v851QgAAAOWwvXVCAACA7K7sdUIAAIAutf51QgAAQIZB03VCAABAoGHGdUIAAAANl9x1QgAAwKdf9XVCAADAUebTdUIAAICxi/B1QgAAwCSJA3ZCAACAACL8dUIAAIBcSAF2QgAAACjtAXZCAACAQfLbdUIAAEDwLQR2QgAAQBfe8HVCAADAEBb0dUIAAICxi/B1QgAAwICvCHZCAADApinDdUIAAMB/edZ1QgAAANlW9nVCAABACRjFdUIAAED9vf11QgAAwJmZyXVCAAAAVoAEdkIAAEAkbup1QgAAAA2X3HVCAAAAhBMHdkIAAIA7Rfh1QgAAgG+F3nVCAACAT7gHdkIAAMB/edZ1QgAAwOKC8XVCAADAF/kJdkIAAAAMYap1QgAAQMFkz3VCAAAAXC3odUIAAACeM/p1QgAAQI0k6XVCAADAF/kJdkIAAEAewQZ2QgAAwIwJ0HVCAACAtzjUdUIAAADtyQV2QgAAwI0/AnZCAACAqqjadUIAAEDjnQp2QgAAgDRi4nVCAACAfUsKdkIAAIBi9eR1QgAAAJ4z+nVCAACA3x7zdUIAAMBsPPl1QgAAwFIcBnZCAABArifydUIAAAA69Kx1QgAAQOgUvHVCAADAEBb0dUIAAIBcSAF2QgAAwDfG4HVCAABAX5HmdUIAAEAewQZ2QgAAgKqo2nVCAAAAkaMAdkIAAECUB/91QgAAwOFMv3VCAADA7xLrdUIAAEBmdPx1QgAAQExUCXZCAADArQzZdUIAAECUB/91QgAAwLvSBHZCAADAULChdUIAAIBi9eR1QgAAgHZo9HVCAACAgsK7dUIAAECuJ/J1Qg==\",\"dtype\":\"float64\",\"shape\":[287]},\"fruit\":[\"Banana\",\"Banana\",\"Banana\",\"Banana\",\"Banana\",\"Banana\",\"Banana\",\"Banana\",\"Banana\",\"Banana\",\"Banana\",\"Banana\",\"Banana\",\"Banana\",\"Banana\",\"Banana\",\"Banana\",\"Banana\",\"Banana\",\"Banana\",\"Banana\",\"Banana\",\"Banana\",\"Banana\",\"Banana\",\"Banana\",\"Banana\",\"Banana\",\"Banana\",\"Banana\",\"Banana\",\"Banana\",\"Banana\",\"Banana\",\"Banana\",\"Banana\",\"Banana\",\"Banana\",\"Banana\",\"Banana\",\"Banana\",\"Banana\",\"Banana\",\"Banana\",\"Banana\",\"Banana\",\"Banana\",\"Banana\",\"Banana\",\"Banana\",\"Banana\",\"Banana\",\"Banana\",\"Banana\",\"Banana\",\"Banana\",\"Banana\",\"Banana\",\"Banana\",\"Banana\",\"Banana\",\"Banana\",\"Banana\",\"Banana\",\"Banana\",\"Banana\",\"Banana\",\"Banana\",\"Banana\",\"Banana\",\"Banana\",\"Banana\",\"Banana\",\"Banana\",\"Banana\",\"Banana\",\"Banana\",\"Banana\",\"Banana\",\"Banana\",\"Banana\",\"Banana\",\"Banana\",\"Banana\",\"Banana\",\"Banana\",\"Banana\",\"Banana\",\"Banana\",\"Banana\",\"Banana\",\"Banana\",\"Banana\",\"Banana\",\"Banana\",\"Banana\",\"Banana\",\"Banana\",\"Banana\",\"Banana\",\"Banana\",\"Banana\",\"Banana\",\"Banana\",\"Banana\",\"Banana\",\"Banana\",\"Banana\",\"Banana\",\"Banana\",\"Banana\",\"Banana\",\"Banana\",\"Banana\",\"Banana\",\"Banana\",\"Banana\",\"Banana\",\"Banana\",\"Banana\",\"Banana\",\"Banana\",\"Banana\",\"Banana\",\"Banana\",\"Banana\",\"Banana\",\"Banana\",\"Banana\",\"Banana\",\"Banana\",\"Banana\",\"Banana\",\"Banana\",\"Banana\",\"Banana\",\"Banana\",\"Banana\",\"Banana\",\"Banana\",\"Banana\",\"Banana\",\"Banana\",\"Banana\",\"Banana\",\"Banana\",\"Banana\",\"Banana\",\"Banana\",\"Banana\",\"Banana\",\"Banana\",\"Banana\",\"Banana\",\"Banana\",\"Banana\",\"Banana\",\"Banana\",\"Banana\",\"Banana\",\"Banana\",\"Banana\",\"Banana\",\"Banana\",\"Banana\",\"Banana\",\"Banana\",\"Banana\",\"Banana\",\"Banana\",\"Banana\",\"Banana\",\"Banana\",\"Banana\",\"Banana\",\"Banana\",\"Banana\",\"Banana\",\"Banana\",\"Banana\",\"Banana\",\"Banana\",\"Banana\",\"Banana\",\"Banana\",\"Banana\",\"Banana\",\"Banana\",\"Banana\",\"Banana\",\"Banana\",\"Banana\",\"Banana\",\"Banana\",\"Banana\",\"Banana\",\"Banana\",\"Banana\",\"Banana\",\"Banana\",\"Banana\",\"Banana\",\"Banana\",\"Banana\",\"Banana\",\"Banana\",\"Banana\",\"Banana\",\"Banana\",\"Banana\",\"Banana\",\"Banana\",\"Banana\",\"Banana\",\"Banana\",\"Banana\",\"Banana\",\"Banana\",\"Banana\",\"Banana\",\"Banana\",\"Banana\",\"Banana\",\"Banana\",\"Banana\",\"Banana\",\"Banana\",\"Banana\",\"Banana\",\"Banana\",\"Banana\",\"Banana\",\"Banana\",\"Banana\",\"Banana\",\"Banana\",\"Banana\",\"Banana\",\"Banana\",\"Banana\",\"Banana\",\"Banana\",\"Banana\",\"Banana\",\"Banana\",\"Banana\",\"Banana\",\"Banana\",\"Banana\",\"Banana\",\"Banana\",\"Banana\",\"Banana\",\"Banana\",\"Banana\",\"Banana\",\"Banana\",\"Banana\",\"Banana\",\"Banana\",\"Banana\",\"Banana\",\"Banana\",\"Banana\",\"Banana\",\"Banana\",\"Banana\",\"Banana\",\"Banana\",\"Banana\",\"Banana\",\"Banana\",\"Banana\",\"Banana\",\"Banana\",\"Banana\",\"Banana\",\"Banana\",\"Banana\",\"Banana\",\"Banana\",\"Banana\",\"Banana\",\"Banana\",\"Banana\",\"Banana\",\"Banana\"],\"index\":[0,1,2,4,6,13,16,27,28,29,35,39,42,44,52,54,55,60,65,68,70,71,73,74,78,79,83,85,87,89,91,92,97,103,109,115,120,122,128,132,133,136,137,138,140,142,156,166,167,174,178,184,187,188,190,192,195,196,201,203,207,209,210,217,218,219,222,230,232,233,238,242,244,246,247,250,257,262,269,270,274,276,277,285,286,287,289,293,294,301,307,310,328,332,334,339,349,351,353,357,359,360,364,366,367,370,372,373,374,376,377,378,380,384,386,390,396,401,411,412,414,415,417,420,422,430,432,433,434,440,441,442,450,460,463,466,472,473,475,476,477,479,481,482,486,499,503,509,511,512,521,522,525,527,528,531,537,544,546,558,561,566,568,570,572,574,576,577,581,582,583,587,590,598,600,602,604,608,611,614,615,616,617,619,624,625,627,628,632,639,640,641,642,650,656,658,664,666,670,673,675,679,686,688,689,698,700,702,704,711,713,719,733,734,752,753,761,763,765,767,772,774,775,776,780,783,787,794,795,797,799,801,803,811,814,816,830,836,843,845,862,863,871,872,873,879,882,886,887,889,891,898,899,900,903,904,905,906,909,910,911,912,913,915,922,926,931,939,944,947,948,949,957,959,963,964,965,967,969,971,973,974,975,981,990,994,996],\"quantity\":[4,4,4,5,7,3,4,6,3,3,5,6,4,3,4,4,3,3,2,4,4,6,3,3,4,4,5,4,2,6,9,5,2,5,7,6,2,4,2,7,5,2,7,4,2,3,4,3,6,3,5,5,3,3,5,5,1,2,1,4,3,2,4,3,5,5,7,5,3,7,5,4,4,4,3,4,2,5,9,2,5,6,1,6,3,4,9,3,2,6,3,2,4,3,2,4,2,3,2,5,2,2,4,4,4,4,4,5,4,2,2,3,4,8,4,3,3,3,4,6,1,2,2,3,4,5,5,3,3,1,3,2,1,6,3,3,2,1,6,2,2,4,2,2,3,2,2,4,5,4,3,6,3,5,3,3,3,4,4,5,5,2,6,3,1,4,3,3,2,2,3,3,9,7,4,4,4,2,4,5,4,2,5,2,2,2,4,4,3,2,3,6,2,3,8,3,4,3,2,3,2,3,3,2,3,5,3,10,6,1,5,6,2,5,3,2,3,6,5,5,3,3,7,5,4,3,4,4,2,4,4,6,4,2,5,1,2,4,5,5,3,1,3,4,6,3,2,2,2,6,1,1,6,3,3,5,8,3,5,4,3,4,4,5,3,7,7,3,2,4,8,1,2,6,2,2,2,3,1,7,1,3,7,5,1,4,1],\"unit_price\":{\"__ndarray__\":\"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\",\"dtype\":\"float64\",\"shape\":[287]}},\"name\":\"Series:Banana\",\"selected\":{\"id\":\"1508\",\"type\":\"Selection\"},\"selection_policy\":{\"id\":\"1509\",\"type\":\"UnionRenderers\"}},\"id\":\"1457\",\"type\":\"ColumnDataSource\"},{\"attributes\":{\"level\":\"overlay\",\"name\":\"subtitle\",\"plot\":{\"id\":\"1401\",\"subtype\":\"Figure\",\"type\":\"Plot\"},\"text\":\"\",\"text_align\":\"right\",\"text_color\":{\"value\":\"#898989\"},\"text_font_size\":{\"value\":\"10px\"},\"x\":864.0,\"x_units\":\"screen\",\"y\":0,\"y_units\":\"screen\"},\"id\":\"1426\",\"type\":\"Label\"},{\"attributes\":{},\"id\":\"1538\",\"type\":\"Selection\"},{\"attributes\":{\"grid_line_color\":{\"value\":null},\"plot\":{\"id\":\"1401\",\"subtype\":\"Figure\",\"type\":\"Plot\"},\"ticker\":{\"id\":\"1411\",\"type\":\"DatetimeTicker\"}},\"id\":\"1414\",\"type\":\"Grid\"},{\"attributes\":{\"plot\":null,\"text\":\"Scatterplot\",\"text_color\":{\"value\":\"#333333\"},\"text_font_size\":{\"value\":\"18pt\"}},\"id\":\"1423\",\"type\":\"Title\"},{\"attributes\":{\"label\":{\"value\":\"Orange\"},\"renderers\":[{\"id\":\"1515\",\"type\":\"GlyphRenderer\"}]},\"id\":\"1540\",\"type\":\"LegendItem\"},{\"attributes\":{\"axis_label_text_color\":{\"value\":\"#666666\"},\"axis_label_text_font_size\":{\"value\":\"11pt\"},\"axis_label_text_font_style\":\"bold\",\"axis_line_color\":{\"value\":\"#C0C0C0\"},\"formatter\":{\"id\":\"1441\",\"type\":\"DatetimeTickFormatter\"},\"major_label_text_color\":{\"value\":\"#898989\"},\"major_label_text_font_size\":{\"value\":\"10pt\"},\"major_tick_in\":0,\"major_tick_line_color\":{\"value\":\"#C0C0C0\"},\"major_tick_out\":4,\"minor_tick_line_color\":{\"value\":\"#C0C0C0\"},\"minor_tick_out\":1,\"plot\":{\"id\":\"1401\",\"subtype\":\"Figure\",\"type\":\"Plot\"},\"ticker\":{\"id\":\"1411\",\"type\":\"DatetimeTicker\"}},\"id\":\"1410\",\"type\":\"DatetimeAxis\"},{\"attributes\":{},\"id\":\"1416\",\"type\":\"BasicTicker\"},{\"attributes\":{\"fill_color\":{\"value\":\"#1f77b4\"},\"line_color\":{\"value\":\"#1f77b4\"},\"size\":{\"field\":\"quantity\",\"units\":\"screen\"},\"x\":{\"field\":\"date\"},\"y\":{\"field\":\"unit_price\"}},\"id\":\"1434\",\"type\":\"Scatter\"},{\"attributes\":{\"callback\":null,\"data\":{\"date\":{\"__ndarray__\":\"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\",\"dtype\":\"float64\",\"shape\":[222]},\"fruit\":[\"Grape\",\"Grape\",\"Grape\",\"Grape\",\"Grape\",\"Grape\",\"Grape\",\"Grape\",\"Grape\",\"Grape\",\"Grape\",\"Grape\",\"Grape\",\"Grape\",\"Grape\",\"Grape\",\"Grape\",\"Grape\",\"Grape\",\"Grape\",\"Grape\",\"Grape\",\"Grape\",\"Grape\",\"Grape\",\"Grape\",\"Grape\",\"Grape\",\"Grape\",\"Grape\",\"Grape\",\"Grape\",\"Grape\",\"Grape\",\"Grape\",\"Grape\",\"Grape\",\"Grape\",\"Grape\",\"Grape\",\"Grape\",\"Grape\",\"Grape\",\"Grape\",\"Grape\",\"Grape\",\"Grape\",\"Grape\",\"Grape\",\"Grape\",\"Grape\",\"Grape\",\"Grape\",\"Grape\",\"Grape\",\"Grape\",\"Grape\",\"Grape\",\"Grape\",\"Grape\",\"Grape\",\"Grape\",\"Grape\",\"Grape\",\"Grape\",\"Grape\",\"Grape\",\"Grape\",\"Grape\",\"Grape\",\"Grape\",\"Grape\",\"Grape\",\"Grape\",\"Grape\",\"Grape\",\"Grape\",\"Grape\",\"Grape\",\"Grape\",\"Grape\",\"Grape\",\"Grape\",\"Grape\",\"Grape\",\"Grape\",\"Grape\",\"Grape\",\"Grape\",\"Grape\",\"Grape\",\"Grape\",\"Grape\",\"Grape\",\"Grape\",\"Grape\",\"Grape\",\"Grape\",\"Grape\",\"Grape\",\"Grape\",\"Grape\",\"Grape\",\"Grape\",\"Grape\",\"Grape\",\"Grape\",\"Grape\",\"Grape\",\"Grape\",\"Grape\",\"Grape\",\"Grape\",\"Grape\",\"Grape\",\"Grape\",\"Grape\",\"Grape\",\"Grape\",\"Grape\",\"Grape\",\"Grape\",\"Grape\",\"Grape\",\"Grape\",\"Grape\",\"Grape\",\"Grape\",\"Grape\",\"Grape\",\"Grape\",\"Grape\",\"Grape\",\"Grape\",\"Grape\",\"Grape\",\"Grape\",\"Grape\",\"Grape\",\"Grape\",\"Grape\",\"Grape\",\"Grape\",\"Grape\",\"Grape\",\"Grape\",\"Grape\",\"Grape\",\"Grape\",\"Grape\",\"Grape\",\"Grape\",\"Grape\",\"Grape\",\"Grape\",\"Grape\",\"Grape\",\"Grape\",\"Grape\",\"Grape\",\"Grape\",\"Grape\",\"Grape\",\"Grape\",\"Grape\",\"Grape\",\"Grape\",\"Grape\",\"Grape\",\"Grape\",\"Grape\",\"Grape\",\"Grape\",\"Grape\",\"Grape\",\"Grape\",\"Grape\",\"Grape\",\"Grape\",\"Grape\",\"Grape\",\"Grape\",\"Grape\",\"Grape\",\"Grape\",\"Grape\",\"Grape\",\"Grape\",\"Grape\",\"Grape\",\"Grape\",\"Grape\",\"Grape\",\"Grape\",\"Grape\",\"Grape\",\"Grape\",\"Grape\",\"Grape\",\"Grape\",\"Grape\",\"Grape\",\"Grape\",\"Grape\",\"Grape\",\"Grape\",\"Grape\",\"Grape\",\"Grape\",\"Grape\",\"Grape\",\"Grape\",\"Grape\",\"Grape\",\"Grape\",\"Grape\",\"Grape\",\"Grape\",\"Grape\",\"Grape\",\"Grape\",\"Grape\"],\"index\":[3,9,10,18,24,36,40,41,47,48,58,61,62,72,84,90,94,95,96,110,111,113,117,118,123,126,127,129,131,135,144,147,149,151,152,154,155,159,161,163,164,171,179,181,186,198,199,206,216,221,225,229,236,239,241,245,249,252,253,254,259,260,261,263,266,279,280,291,292,306,308,315,316,318,320,322,330,337,343,348,350,368,369,375,381,382,383,387,389,395,398,402,405,406,407,413,421,425,426,429,447,451,453,454,457,465,467,470,471,474,478,487,488,491,500,501,508,515,517,518,519,523,529,533,534,536,538,552,562,578,580,591,593,594,596,606,620,623,630,648,649,654,657,661,665,669,672,683,687,694,706,708,712,715,717,718,721,730,739,747,748,750,755,756,757,760,764,771,779,784,788,815,818,821,824,825,829,831,844,847,848,851,853,854,858,861,864,865,866,876,877,885,894,902,917,920,921,924,925,927,928,935,936,937,940,942,950,952,953,954,958,960,961,966,968,972,980,984,985,986,992,999],\"quantity\":[2,2,1,3,1,3,2,2,1,1,2,1,2,1,1,2,3,1,1,2,1,4,1,1,2,1,1,2,2,1,2,3,1,2,2,1,1,3,2,1,2,1,1,1,2,1,1,1,2,2,1,1,2,1,3,1,1,1,1,1,2,1,2,1,2,2,2,2,1,1,1,3,1,1,2,1,2,2,5,1,1,1,1,1,1,1,1,1,2,1,3,2,3,2,1,1,2,1,1,1,1,3,2,2,1,2,2,2,1,2,1,1,1,3,1,2,1,1,1,1,1,3,2,1,1,1,1,2,1,1,2,1,1,1,1,1,1,1,1,1,1,4,1,1,2,2,2,2,3,2,2,1,1,1,1,2,2,1,2,1,1,3,1,1,1,2,1,1,1,2,2,1,1,2,2,1,1,1,1,1,1,2,2,1,1,1,1,1,1,2,2,1,1,1,1,1,1,2,1,2,1,3,2,1,1,1,2,1,2,1,2,1,2,1,1,2,1,2,1,1,1,1],\"unit_price\":{\"__ndarray__\":\"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\",\"dtype\":\"float64\",\"shape\":[222]}},\"name\":\"Series:Grape\",\"selected\":{\"id\":\"1538\",\"type\":\"Selection\"},\"selection_policy\":{\"id\":\"1539\",\"type\":\"UnionRenderers\"}},\"id\":\"1483\",\"type\":\"ColumnDataSource\"},{\"attributes\":{\"fill_color\":{\"value\":\"#2ca02c\"},\"line_color\":{\"value\":\"#2ca02c\"},\"size\":{\"field\":\"quantity\",\"units\":\"screen\"},\"x\":{\"field\":\"date\"},\"y\":{\"field\":\"unit_price\"}},\"id\":\"1485\",\"type\":\"Scatter\"},{\"attributes\":{\"num_minor_ticks\":5,\"tickers\":[{\"id\":\"1443\",\"type\":\"AdaptiveTicker\"},{\"id\":\"1444\",\"type\":\"AdaptiveTicker\"},{\"id\":\"1445\",\"type\":\"AdaptiveTicker\"},{\"id\":\"1446\",\"type\":\"DaysTicker\"},{\"id\":\"1447\",\"type\":\"DaysTicker\"},{\"id\":\"1448\",\"type\":\"DaysTicker\"},{\"id\":\"1449\",\"type\":\"DaysTicker\"},{\"id\":\"1450\",\"type\":\"MonthsTicker\"},{\"id\":\"1451\",\"type\":\"MonthsTicker\"},{\"id\":\"1452\",\"type\":\"MonthsTicker\"},{\"id\":\"1453\",\"type\":\"MonthsTicker\"},{\"id\":\"1454\",\"type\":\"YearsTicker\"}]},\"id\":\"1411\",\"type\":\"DatetimeTicker\"},{\"attributes\":{\"data_source\":{\"id\":\"1432\",\"type\":\"ColumnDataSource\"},\"glyph\":{\"id\":\"1434\",\"type\":\"Scatter\"},\"hover_glyph\":null,\"muted_glyph\":null,\"nonselection_glyph\":{\"id\":\"1435\",\"type\":\"Scatter\"},\"selection_glyph\":null,\"view\":{\"id\":\"1437\",\"type\":\"CDSView\"}},\"id\":\"1436\",\"type\":\"GlyphRenderer\"},{\"attributes\":{\"data_source\":{\"id\":\"1483\",\"type\":\"ColumnDataSource\"},\"glyph\":{\"id\":\"1485\",\"type\":\"Scatter\"},\"hover_glyph\":null,\"muted_glyph\":null,\"nonselection_glyph\":{\"id\":\"1486\",\"type\":\"Scatter\"},\"selection_glyph\":null,\"view\":{\"id\":\"1488\",\"type\":\"CDSView\"}},\"id\":\"1487\",\"type\":\"GlyphRenderer\"},{\"attributes\":{\"label\":{\"value\":\"Banana\"},\"renderers\":[{\"id\":\"1461\",\"type\":\"GlyphRenderer\"}]},\"id\":\"1482\",\"type\":\"LegendItem\"},{\"attributes\":{\"source\":{\"id\":\"1432\",\"type\":\"ColumnDataSource\"}},\"id\":\"1437\",\"type\":\"CDSView\"},{\"attributes\":{\"source\":{\"id\":\"1483\",\"type\":\"ColumnDataSource\"}},\"id\":\"1488\",\"type\":\"CDSView\"}],\"root_ids\":[\"1401\"]},\"title\":\"Bokeh Application\",\"version\":\"1.0.4\"}};\n",
       "  var render_items = [{\"docid\":\"0b9f3912-71cd-4667-8c65-473a3fbb8e0d\",\"roots\":{\"1401\":\"1d358add-a64c-4fd3-9730-b989af376da2\"}}];\n",
       "  root.Bokeh.embed.embed_items_notebook(docs_json, render_items);\n",
       "\n",
       "  }\n",
       "  if (root.Bokeh !== undefined) {\n",
       "    embed_document(root);\n",
       "  } else {\n",
       "    var attempts = 0;\n",
       "    var timer = setInterval(function(root) {\n",
       "      if (root.Bokeh !== undefined) {\n",
       "        embed_document(root);\n",
       "        clearInterval(timer);\n",
       "      }\n",
       "      attempts++;\n",
       "      if (attempts > 100) {\n",
       "        console.log(\"Bokeh: ERROR: Unable to run BokehJS code because BokehJS library is missing\");\n",
       "        clearInterval(timer);\n",
       "      }\n",
       "    }, 10, root)\n",
       "  }\n",
       "})(window);"
      ],
      "application/vnd.bokehjs_exec.v0+json": ""
     },
     "metadata": {
      "application/vnd.bokehjs_exec.v0+json": {
       "id": "1401"
      }
     },
     "output_type": "display_data"
    }
   ],
   "source": [
    "ch = chartify.Chart(blank_labels=True, x_axis_type='datetime')\n",
    "ch.plot.scatter(\n",
    "    data_frame=data,\n",
    "    x_column='date',\n",
    "    y_column='unit_price',\n",
    "    size_column='quantity',\n",
    "    color_column='fruit')\n",
    "ch.set_title(\"Scatterplot\")\n",
    "ch.set_subtitle(\"Optional 'color_column' argument for grouping by color.\")\n",
    "ch.show()"
   ]
  },
  {
   "cell_type": "markdown",
   "metadata": {},
   "source": [
    "## Bar Chart"
   ]
  },
  {
   "cell_type": "code",
   "execution_count": 13,
   "metadata": {},
   "outputs": [
    {
     "data": {
      "text/html": [
       "\n",
       "\n",
       "\n",
       "\n",
       "\n",
       "\n",
       "  <div class=\"bk-root\" id=\"4b4c8d80-c4db-4847-8623-c23be5f2e6ea\" data-root-id=\"2322\"></div>\n"
      ]
     },
     "metadata": {},
     "output_type": "display_data"
    },
    {
     "data": {
      "application/javascript": [
       "(function(root) {\n",
       "  function embed_document(root) {\n",
       "    \n",
       "  var docs_json = {\"44572ca4-857f-4369-a778-fca397fba8f0\":{\"roots\":{\"references\":[{\"attributes\":{\"above\":[{\"id\":\"2347\",\"type\":\"Title\"}],\"background_fill_color\":{\"value\":\"white\"},\"below\":[{\"id\":\"2331\",\"type\":\"LinearAxis\"},{\"id\":\"2346\",\"type\":\"Label\"}],\"border_fill_color\":{\"value\":\"white\"},\"left\":[{\"id\":\"2336\",\"type\":\"CategoricalAxis\"}],\"min_border_bottom\":60,\"min_border_left\":60,\"min_border_right\":60,\"min_border_top\":40,\"outline_line_color\":{\"value\":\"white\"},\"plot_height\":540,\"plot_width\":960,\"renderers\":[{\"id\":\"2331\",\"type\":\"LinearAxis\"},{\"id\":\"2335\",\"type\":\"Grid\"},{\"id\":\"2336\",\"type\":\"CategoricalAxis\"},{\"id\":\"2339\",\"type\":\"Grid\"},{\"id\":\"2346\",\"type\":\"Label\"},{\"id\":\"2347\",\"type\":\"Title\"},{\"id\":\"2365\",\"type\":\"Legend\"},{\"id\":\"2358\",\"type\":\"GlyphRenderer\"}],\"title\":{\"id\":\"2343\",\"type\":\"Title\"},\"toolbar\":{\"id\":\"2341\",\"type\":\"Toolbar\"},\"x_range\":{\"id\":\"2323\",\"type\":\"DataRange1d\"},\"x_scale\":{\"id\":\"2327\",\"type\":\"LinearScale\"},\"y_range\":{\"id\":\"2325\",\"type\":\"FactorRange\"},\"y_scale\":{\"id\":\"2329\",\"type\":\"CategoricalScale\"}},\"id\":\"2322\",\"subtype\":\"Figure\",\"type\":\"Plot\"},{\"attributes\":{\"fill_alpha\":{\"value\":0.1},\"fill_color\":{\"value\":\"#1f77b4\"},\"height\":{\"value\":0.9},\"line_alpha\":{\"value\":0.1},\"line_color\":{\"value\":\"#1f77b4\"},\"right\":{\"field\":\"quantity\"},\"y\":{\"field\":\"factors\"}},\"id\":\"2357\",\"type\":\"HBar\"},{\"attributes\":{},\"id\":\"2327\",\"type\":\"LinearScale\"},{\"attributes\":{\"level\":\"overlay\",\"name\":\"subtitle\",\"plot\":{\"id\":\"2322\",\"subtype\":\"Figure\",\"type\":\"Plot\"},\"text\":\"\",\"text_align\":\"right\",\"text_color\":{\"value\":\"#898989\"},\"text_font_size\":{\"value\":\"10px\"},\"x\":864.0,\"x_units\":\"screen\",\"y\":0,\"y_units\":\"screen\"},\"id\":\"2346\",\"type\":\"Label\"},{\"attributes\":{},\"id\":\"2476\",\"type\":\"UnionRenderers\"},{\"attributes\":{\"fill_color\":{\"field\":\"color_column\",\"transform\":{\"id\":\"2352\",\"type\":\"CategoricalColorMapper\"}},\"height\":{\"value\":0.9},\"line_color\":{\"value\":\"white\"},\"right\":{\"field\":\"quantity\"},\"y\":{\"field\":\"factors\"}},\"id\":\"2356\",\"type\":\"HBar\"},{\"attributes\":{\"plot\":{\"id\":\"2322\",\"subtype\":\"Figure\",\"type\":\"Plot\"},\"text\":\"Horizontal with color grouping\",\"text_color\":{\"value\":\"#666666\"},\"text_font_size\":{\"value\":\"12pt\"}},\"id\":\"2347\",\"type\":\"Title\"},{\"attributes\":{\"data_source\":{\"id\":\"2351\",\"type\":\"ColumnDataSource\"},\"glyph\":{\"id\":\"2356\",\"type\":\"HBar\"},\"hover_glyph\":null,\"muted_glyph\":null,\"nonselection_glyph\":{\"id\":\"2357\",\"type\":\"HBar\"},\"selection_glyph\":null,\"view\":{\"id\":\"2359\",\"type\":\"CDSView\"}},\"id\":\"2358\",\"type\":\"GlyphRenderer\"},{\"attributes\":{\"source\":{\"id\":\"2351\",\"type\":\"ColumnDataSource\"}},\"id\":\"2359\",\"type\":\"CDSView\"},{\"attributes\":{\"end\":1,\"factors\":[\"Apple\",\"Banana\",\"Grape\",\"Orange\"],\"palette\":[\"#1f77b4\",\"#ff7f0e\",\"#2ca02c\",\"#d62728\"]},\"id\":\"2352\",\"type\":\"CategoricalColorMapper\"},{\"attributes\":{\"callback\":null,\"data\":{\"color_column\":[\"Banana\",\"Orange\",\"Apple\",\"Grape\"],\"factors\":[\"Banana\",\"Orange\",\"Apple\",\"Grape\"],\"index\":[0,1,2,3],\"quantity\":[1076,862,608,332]},\"name\":\"Series:\",\"selected\":{\"id\":\"2475\",\"type\":\"Selection\"},\"selection_policy\":{\"id\":\"2476\",\"type\":\"UnionRenderers\"}},\"id\":\"2351\",\"type\":\"ColumnDataSource\"},{\"attributes\":{},\"id\":\"2362\",\"type\":\"CategoricalTickFormatter\"},{\"attributes\":{},\"id\":\"2329\",\"type\":\"CategoricalScale\"},{\"attributes\":{\"callback\":null,\"end\":null,\"start\":0},\"id\":\"2323\",\"type\":\"DataRange1d\"},{\"attributes\":{},\"id\":\"2340\",\"type\":\"SaveTool\"},{\"attributes\":{\"items\":[{\"id\":\"2366\",\"type\":\"LegendItem\"}],\"location\":\"top_left\",\"orientation\":\"horizontal\",\"plot\":{\"id\":\"2322\",\"subtype\":\"Figure\",\"type\":\"Plot\"}},\"id\":\"2365\",\"type\":\"Legend\"},{\"attributes\":{\"active_drag\":null,\"active_inspect\":\"auto\",\"active_multi\":null,\"active_scroll\":\"auto\",\"active_tap\":\"auto\",\"logo\":null,\"tools\":[{\"id\":\"2340\",\"type\":\"SaveTool\"}]},\"id\":\"2341\",\"type\":\"Toolbar\"},{\"attributes\":{},\"id\":\"2475\",\"type\":\"Selection\"},{\"attributes\":{\"dimension\":1,\"grid_line_color\":{\"value\":null},\"plot\":{\"id\":\"2322\",\"subtype\":\"Figure\",\"type\":\"Plot\"},\"ticker\":{\"id\":\"2337\",\"type\":\"CategoricalTicker\"}},\"id\":\"2339\",\"type\":\"Grid\"},{\"attributes\":{},\"id\":\"2337\",\"type\":\"CategoricalTicker\"},{\"attributes\":{\"axis_label_text_color\":{\"value\":\"#666666\"},\"axis_label_text_font_size\":{\"value\":\"11pt\"},\"axis_label_text_font_style\":\"bold\",\"axis_line_color\":{\"value\":\"#C0C0C0\"},\"formatter\":{\"id\":\"2362\",\"type\":\"CategoricalTickFormatter\"},\"group_text_font_size\":{\"value\":\"11pt\"},\"major_label_text_color\":{\"value\":\"#898989\"},\"major_label_text_font_size\":{\"value\":\"10pt\"},\"major_tick_in\":0,\"major_tick_line_color\":{\"value\":\"#C0C0C0\"},\"major_tick_out\":4,\"minor_tick_line_color\":{\"value\":\"#C0C0C0\"},\"minor_tick_out\":1,\"plot\":{\"id\":\"2322\",\"subtype\":\"Figure\",\"type\":\"Plot\"},\"separator_line_alpha\":{\"value\":0},\"subgroup_text_font_size\":{\"value\":\"11pt\"},\"ticker\":{\"id\":\"2337\",\"type\":\"CategoricalTicker\"}},\"id\":\"2336\",\"type\":\"CategoricalAxis\"},{\"attributes\":{\"label\":{\"field\":\"color_column\"},\"renderers\":[{\"id\":\"2358\",\"type\":\"GlyphRenderer\"}]},\"id\":\"2366\",\"type\":\"LegendItem\"},{\"attributes\":{\"grid_line_color\":{\"value\":null},\"plot\":{\"id\":\"2322\",\"subtype\":\"Figure\",\"type\":\"Plot\"},\"ticker\":{\"id\":\"2332\",\"type\":\"BasicTicker\"}},\"id\":\"2335\",\"type\":\"Grid\"},{\"attributes\":{},\"id\":\"2332\",\"type\":\"BasicTicker\"},{\"attributes\":{\"axis_label_text_color\":{\"value\":\"#666666\"},\"axis_label_text_font_size\":{\"value\":\"11pt\"},\"axis_label_text_font_style\":\"bold\",\"axis_line_color\":{\"value\":\"#C0C0C0\"},\"formatter\":{\"id\":\"2353\",\"type\":\"NumeralTickFormatter\"},\"major_label_text_color\":{\"value\":\"#898989\"},\"major_label_text_font_size\":{\"value\":\"10pt\"},\"major_tick_in\":0,\"major_tick_line_color\":{\"value\":\"#C0C0C0\"},\"major_tick_out\":4,\"minor_tick_line_color\":{\"value\":\"#C0C0C0\"},\"minor_tick_out\":1,\"plot\":{\"id\":\"2322\",\"subtype\":\"Figure\",\"type\":\"Plot\"},\"ticker\":{\"id\":\"2332\",\"type\":\"BasicTicker\"}},\"id\":\"2331\",\"type\":\"LinearAxis\"},{\"attributes\":{\"callback\":null,\"factor_padding\":0.25,\"factors\":[\"Banana\",\"Orange\",\"Apple\",\"Grape\"]},\"id\":\"2325\",\"type\":\"FactorRange\"},{\"attributes\":{\"plot\":null,\"text\":\"Horizontal bar plot\",\"text_color\":{\"value\":\"#333333\"},\"text_font_size\":{\"value\":\"18pt\"}},\"id\":\"2343\",\"type\":\"Title\"},{\"attributes\":{\"format\":\"0,0.[0000]\"},\"id\":\"2353\",\"type\":\"NumeralTickFormatter\"}],\"root_ids\":[\"2322\"]},\"title\":\"Bokeh Application\",\"version\":\"1.0.4\"}};\n",
       "  var render_items = [{\"docid\":\"44572ca4-857f-4369-a778-fca397fba8f0\",\"roots\":{\"2322\":\"4b4c8d80-c4db-4847-8623-c23be5f2e6ea\"}}];\n",
       "  root.Bokeh.embed.embed_items_notebook(docs_json, render_items);\n",
       "\n",
       "  }\n",
       "  if (root.Bokeh !== undefined) {\n",
       "    embed_document(root);\n",
       "  } else {\n",
       "    var attempts = 0;\n",
       "    var timer = setInterval(function(root) {\n",
       "      if (root.Bokeh !== undefined) {\n",
       "        embed_document(root);\n",
       "        clearInterval(timer);\n",
       "      }\n",
       "      attempts++;\n",
       "      if (attempts > 100) {\n",
       "        console.log(\"Bokeh: ERROR: Unable to run BokehJS code because BokehJS library is missing\");\n",
       "        clearInterval(timer);\n",
       "      }\n",
       "    }, 10, root)\n",
       "  }\n",
       "})(window);"
      ],
      "application/vnd.bokehjs_exec.v0+json": ""
     },
     "metadata": {
      "application/vnd.bokehjs_exec.v0+json": {
       "id": "2322"
      }
     },
     "output_type": "display_data"
    }
   ],
   "source": [
    "data = chartify.examples.example_data()\n",
    "\n",
    "quantity_by_fruit = (data.groupby('fruit')['quantity'].sum().reset_index())\n",
    "ch = chartify.Chart(blank_labels=True, y_axis_type='categorical')\n",
    "ch.set_title(\"Horizontal bar plot\")\n",
    "ch.set_subtitle(\"Horizontal with color grouping\")\n",
    "ch.plot.bar(\n",
    "    data_frame=quantity_by_fruit,\n",
    "    categorical_columns='fruit',\n",
    "    numeric_column='quantity',\n",
    "    color_column='fruit')\n",
    "ch.show()"
   ]
  }
 ],
 "metadata": {
  "kernelspec": {
   "display_name": "Python 3",
   "language": "python",
   "name": "python3"
  },
  "language_info": {
   "codemirror_mode": {
    "name": "ipython",
    "version": 3
   },
   "file_extension": ".py",
   "mimetype": "text/x-python",
   "name": "python",
   "nbconvert_exporter": "python",
   "pygments_lexer": "ipython3",
   "version": "3.7.1"
  }
 },
 "nbformat": 4,
 "nbformat_minor": 2
}
